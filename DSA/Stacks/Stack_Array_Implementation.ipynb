{
  "nbformat": 4,
  "nbformat_minor": 0,
  "metadata": {
    "colab": {
      "provenance": [],
      "authorship_tag": "ABX9TyPvVMrlmXxTGyi3ZIUa0qrG",
      "include_colab_link": true
    },
    "kernelspec": {
      "name": "python3",
      "display_name": "Python 3"
    },
    "language_info": {
      "name": "python"
    }
  },
  "cells": [
    {
      "cell_type": "markdown",
      "metadata": {
        "id": "view-in-github",
        "colab_type": "text"
      },
      "source": [
        "<a href=\"https://colab.research.google.com/github/er-prateek-tripathi/Python/blob/master/DSA/Stacks/Stack_Array_Implementation.ipynb\" target=\"_parent\"><img src=\"https://colab.research.google.com/assets/colab-badge.svg\" alt=\"Open In Colab\"/></a>"
      ]
    },
    {
      "cell_type": "markdown",
      "source": [
        "Implementing a stack data structure using arrays involves utilizing an array to store the stack elements and a variable to track the top element's position. Here's a step-by-step guide to implementing a stack using arrays:\n",
        "\n",
        "**Define an Array**: Declare an array of the desired size to hold the stack elements.\n",
        "\n",
        "**Initialize Top Variable**: Set a variable, often named 'top', to -1 to indicate an empty stack.\n",
        "\n",
        "**Push Operation**: To push an element onto the stack, increment the 'top' variable and store the element at the newly indexed position in the array.\n",
        "\n",
        "**Pop Operation**: To remove the top element from the stack, check if the 'top' variable is -1. If it is, display an underflow error message. Otherwise, decrement the 'top' variable and return the element stored at that index.\n",
        "\n",
        "**Peek Operation**: To view the top element without removing it, check if the 'top' variable is -1. If it is, display an underflow error message. Otherwise, return the element stored at the 'top' index.\n",
        "\n",
        "**IsEmpty Operation**: To check if the stack is empty, compare the 'top' variable to -1. If they are equal, the stack is empty; otherwise, it's not empty."
      ],
      "metadata": {
        "id": "Kpen6c3KwQ4t"
      }
    },
    {
      "cell_type": "code",
      "execution_count": 11,
      "metadata": {
        "id": "ZsrMdCJ2uR20"
      },
      "outputs": [],
      "source": [
        "class Stack:\n",
        "\n",
        "  def __init__(self,size):\n",
        "    self.size = size\n",
        "    self.stack = [None] * self.size\n",
        "    self.top = -1\n",
        "\n",
        "  def isEmpty(self):\n",
        "        return self.top == -1\n",
        "\n",
        "  def push(self,value):\n",
        "\n",
        "    if self.top == self.size - 1:\n",
        "      return \"Overflow\"\n",
        "    else:\n",
        "      self.top+=1\n",
        "      self.stack[self.top] = value\n",
        "\n",
        "  def pop(self):\n",
        "\n",
        "    if self.top == -1:\n",
        "      return \"Empty\"\n",
        "    else:\n",
        "      data = self.stack[self.top]\n",
        "      self.top-=1\n",
        "      print(data)\n",
        "\n",
        "  def traverse(self):\n",
        "\n",
        "    for i in range(self.top + 1):\n",
        "      print(self.stack[i],end=' ')\n",
        "\n",
        "  def peek(self):\n",
        "        if self.top == -1:\n",
        "            print(\"Stack underflow\")\n",
        "        else:\n",
        "            return self.arr[self.top]"
      ]
    },
    {
      "cell_type": "code",
      "source": [
        "S = Stack(3)"
      ],
      "metadata": {
        "id": "CFsuWU6guuq4"
      },
      "execution_count": 12,
      "outputs": []
    },
    {
      "cell_type": "code",
      "source": [
        "S.push(1)\n",
        "S.push(2)\n",
        "S.push(3)"
      ],
      "metadata": {
        "id": "YC6fRFhYuy0G"
      },
      "execution_count": 13,
      "outputs": []
    },
    {
      "cell_type": "code",
      "source": [
        "S.stack"
      ],
      "metadata": {
        "colab": {
          "base_uri": "https://localhost:8080/"
        },
        "id": "gcA4kbTKu-xG",
        "outputId": "6cbbb3c6-39dd-474e-a4c4-d39d1e9c12a2"
      },
      "execution_count": 14,
      "outputs": [
        {
          "output_type": "execute_result",
          "data": {
            "text/plain": [
              "[1, 2, 3]"
            ]
          },
          "metadata": {},
          "execution_count": 14
        }
      ]
    },
    {
      "cell_type": "code",
      "source": [
        "S.pop()"
      ],
      "metadata": {
        "colab": {
          "base_uri": "https://localhost:8080/"
        },
        "id": "8rK79cREu7hU",
        "outputId": "dbe97d57-ef05-432d-9b34-b6e86ff2ac3c"
      },
      "execution_count": 15,
      "outputs": [
        {
          "output_type": "stream",
          "name": "stdout",
          "text": [
            "3\n"
          ]
        }
      ]
    },
    {
      "cell_type": "code",
      "source": [],
      "metadata": {
        "id": "8QoixOtava3L"
      },
      "execution_count": null,
      "outputs": []
    },
    {
      "cell_type": "code",
      "source": [],
      "metadata": {
        "id": "60tTObAXwPy6"
      },
      "execution_count": null,
      "outputs": []
    }
  ]
}