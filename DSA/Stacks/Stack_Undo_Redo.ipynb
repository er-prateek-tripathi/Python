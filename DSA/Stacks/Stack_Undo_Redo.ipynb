{
  "nbformat": 4,
  "nbformat_minor": 0,
  "metadata": {
    "colab": {
      "provenance": [],
      "authorship_tag": "ABX9TyM5qZgTRat+8+g9zSaLFp4g",
      "include_colab_link": true
    },
    "kernelspec": {
      "name": "python3",
      "display_name": "Python 3"
    },
    "language_info": {
      "name": "python"
    }
  },
  "cells": [
    {
      "cell_type": "markdown",
      "metadata": {
        "id": "view-in-github",
        "colab_type": "text"
      },
      "source": [
        "<a href=\"https://colab.research.google.com/github/er-prateek-tripathi/Python/blob/master/DSA/Stacks/Stack_Undo_Redo.ipynb\" target=\"_parent\"><img src=\"https://colab.research.google.com/assets/colab-badge.svg\" alt=\"Open In Colab\"/></a>"
      ]
    },
    {
      "cell_type": "code",
      "execution_count": 24,
      "metadata": {
        "id": "VAjNt1H87oVf"
      },
      "outputs": [],
      "source": [
        "class Node:\n",
        "\n",
        "  def __init__(self,value):\n",
        "    self.data = value\n",
        "    self.next = None"
      ]
    },
    {
      "cell_type": "code",
      "source": [
        "class Stack:\n",
        "\n",
        "  def __init__(self):\n",
        "    self.top = None\n",
        "\n",
        "  #Checking if Stack is empty or not\n",
        "  def isEmpty(self):\n",
        "    return self.top == None\n",
        "\n",
        "  # Pushing values into stack\n",
        "  def push(self, value):\n",
        "    new_node = Node(value)\n",
        "    new_node.next = self.top\n",
        "    self.top = new_node\n",
        "\n",
        "  # Popping values from Stack\n",
        "  def pop(self):\n",
        "    if(self.isEmpty()):\n",
        "      return 'Stack Empty'\n",
        "    else:\n",
        "      data = self.top.data\n",
        "      self.top = self.top.next\n",
        "      return data\n",
        "\n",
        "  # Traversing Stack\n",
        "  def traverse(self):\n",
        "    temp = self.top\n",
        "    while temp != None:\n",
        "      print(temp.data)\n",
        "      temp = temp.next\n",
        "\n",
        "  def peek(self):\n",
        "    if(self.isEmpty()):\n",
        "      return 'Stack Empty'\n",
        "    else:\n",
        "      return self.top.data\n",
        "\n",
        "  # Size of Stack\n",
        "  def sizeof(self):\n",
        "    temp = self.top\n",
        "    count = 0\n",
        "    while temp != None:\n",
        "      count += 1\n",
        "      temp = temp.next\n",
        "\n",
        "    return count"
      ],
      "metadata": {
        "id": "We4cmr8ACkZI"
      },
      "execution_count": 28,
      "outputs": []
    },
    {
      "cell_type": "markdown",
      "source": [
        "**Undo and Redo operations**\n",
        "\n",
        "For this we will have two stacks and  a string\n",
        "\n",
        "**Stack1** = Undo Stack\n",
        "\n",
        "**Stack2** = Redo Stack\n",
        "\n",
        "**String** = UUUR\n",
        "\n",
        "U = undo\n",
        "R = Redo\n",
        "\n",
        "We will put the string into loop.\n",
        "\n",
        "When U is encountered,\n",
        "- Stack1 will **pop** the top element.\n",
        "- Popped element will be pushed into Stack2.\n",
        "\n",
        "When R is encountered,\n",
        "- Stack2 will pop the top element\n",
        "- Popped element will be pushed into Stack1.\n",
        "\n",
        "When the end of String is encountered, Stack1 is **Displayed**."
      ],
      "metadata": {
        "id": "58zaHO0VSv-E"
      }
    },
    {
      "cell_type": "code",
      "source": [
        "def text_editor(text, pattern):\n",
        "\n",
        "  # Creating objects for Undo and Redo\n",
        "  u = Stack()\n",
        "  r = Stack()\n",
        "\n",
        "  for i in text:\n",
        "    u.push(i)\n",
        "\n",
        "  for i in pattern:\n",
        "    if i == 'U': # undo, pop from stack1 and push it into stack2\n",
        "      data = u.pop()\n",
        "      r.push(data)\n",
        "    else: # redo, pop from stack2 and push it into stack1\n",
        "      data = r.pop()\n",
        "      u.push(data)\n",
        "\n",
        "  res = \"\"\n",
        "\n",
        "  while (not u.isEmpty()):\n",
        "    res = u.pop() + res\n",
        "\n",
        "  print(res)\n",
        "\n"
      ],
      "metadata": {
        "id": "uSeI3rUeT2i2"
      },
      "execution_count": 31,
      "outputs": []
    },
    {
      "cell_type": "code",
      "source": [
        "text_editor(\"PragyaPrateek\", \"UUUUUUU\")"
      ],
      "metadata": {
        "colab": {
          "base_uri": "https://localhost:8080/"
        },
        "id": "EWmB_P5IVi5J",
        "outputId": "67bf2182-a501-4811-8176-8001b7472be8"
      },
      "execution_count": 34,
      "outputs": [
        {
          "output_type": "stream",
          "name": "stdout",
          "text": [
            "Pragya\n"
          ]
        }
      ]
    }
  ]
}