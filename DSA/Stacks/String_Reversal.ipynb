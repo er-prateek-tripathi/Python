{
  "nbformat": 4,
  "nbformat_minor": 0,
  "metadata": {
    "colab": {
      "provenance": [],
      "authorship_tag": "ABX9TyPN4EtNHvCyLxXZhnKFz6OJ",
      "include_colab_link": true
    },
    "kernelspec": {
      "name": "python3",
      "display_name": "Python 3"
    },
    "language_info": {
      "name": "python"
    }
  },
  "cells": [
    {
      "cell_type": "markdown",
      "metadata": {
        "id": "view-in-github",
        "colab_type": "text"
      },
      "source": [
        "<a href=\"https://colab.research.google.com/github/er-prateek-tripathi/Python/blob/master/DSA/Stacks/String_Reversal.ipynb\" target=\"_parent\"><img src=\"https://colab.research.google.com/assets/colab-badge.svg\" alt=\"Open In Colab\"/></a>"
      ]
    },
    {
      "cell_type": "code",
      "execution_count": 10,
      "metadata": {
        "id": "VAjNt1H87oVf"
      },
      "outputs": [],
      "source": [
        "class Node:\n",
        "\n",
        "  def __init__(self,value):\n",
        "    self.data = value\n",
        "    self.next = None"
      ]
    },
    {
      "cell_type": "code",
      "source": [
        "class Stack:\n",
        "\n",
        "  def __init__(self):\n",
        "    self.top = None\n",
        "\n",
        "  #Checking if Stack is empty or not\n",
        "  def isEmpty(self):\n",
        "    return self.top == None\n",
        "\n",
        "  # Pushing values into stack\n",
        "  def push(self, value):\n",
        "    new_node = Node(value)\n",
        "    new_node.next = self.top\n",
        "    self.top = new_node\n",
        "\n",
        "  # Popping values from Stack\n",
        "  def pop(self):\n",
        "    if(self.isEmpty()):\n",
        "      return 'Stack Empty'\n",
        "    else:\n",
        "      popped_item = self.top.data\n",
        "      self.top = self.top.next\n",
        "\n",
        "    return popped_item\n",
        "\n",
        "  # Traversing Stack\n",
        "  def traverse(self):\n",
        "    temp = self.top\n",
        "    while temp != None:\n",
        "      print(temp.data)\n",
        "      temp = temp.next\n",
        "\n",
        "  def peek(self):\n",
        "    if(self.isEmpty()):\n",
        "      return 'Stack Empty'\n",
        "    else:\n",
        "      return self.top.data\n",
        "\n",
        "  # Size of Stack\n",
        "  def sizeof(self):\n",
        "    temp = self.top\n",
        "    count = 0\n",
        "    while temp != None:\n",
        "      count += 1\n",
        "      temp = temp.next\n",
        "\n",
        "    return count\n",
        "\n",
        "\n",
        "\n"
      ],
      "metadata": {
        "id": "We4cmr8ACkZI"
      },
      "execution_count": 11,
      "outputs": []
    },
    {
      "cell_type": "code",
      "source": [
        "#S = Stack()"
      ],
      "metadata": {
        "id": "4vRTARXJEqX8"
      },
      "execution_count": 12,
      "outputs": []
    },
    {
      "cell_type": "markdown",
      "source": [
        "Reversing a Stack\n",
        "\n",
        "Input: Hello\n",
        "Output: olleH\n",
        "\n",
        "Working\n",
        "1. Start a loop on string:\n",
        "and keep it pushing in the stack\n",
        "\n",
        "2. Start second loop and pop tnhe items in the stack\n",
        "\n",
        "3. concatenate popped items into a string.\n"
      ],
      "metadata": {
        "id": "SsIfLIBWKugH"
      }
    },
    {
      "cell_type": "code",
      "source": [
        "def reverse(text):\n",
        "  S = Stack()\n",
        "  for i in text:\n",
        "    S.push(i)\n",
        "\n",
        "  res = \"\"\n",
        "\n",
        "  while(not S.isEmpty()):\n",
        "    res = res + S.pop()\n",
        "\n",
        "  print(res)\n"
      ],
      "metadata": {
        "id": "hG4OsfgGLmvk"
      },
      "execution_count": 15,
      "outputs": []
    },
    {
      "cell_type": "code",
      "source": [
        "reverse(\"P R A G Y A\")"
      ],
      "metadata": {
        "colab": {
          "base_uri": "https://localhost:8080/"
        },
        "id": "PnpgExFTNOEu",
        "outputId": "f8f31ab5-4873-4958-9827-160ff3d2c29b"
      },
      "execution_count": 19,
      "outputs": [
        {
          "output_type": "stream",
          "name": "stdout",
          "text": [
            "A Y G A R P\n"
          ]
        }
      ]
    },
    {
      "cell_type": "code",
      "source": [],
      "metadata": {
        "id": "5kb21jtPNSHe"
      },
      "execution_count": null,
      "outputs": []
    }
  ]
}