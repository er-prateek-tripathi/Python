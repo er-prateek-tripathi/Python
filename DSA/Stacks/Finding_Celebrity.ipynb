{
  "nbformat": 4,
  "nbformat_minor": 0,
  "metadata": {
    "colab": {
      "provenance": [],
      "authorship_tag": "ABX9TyNI+OIhsT8vmm64P0/C1c34",
      "include_colab_link": true
    },
    "kernelspec": {
      "name": "python3",
      "display_name": "Python 3"
    },
    "language_info": {
      "name": "python"
    }
  },
  "cells": [
    {
      "cell_type": "markdown",
      "metadata": {
        "id": "view-in-github",
        "colab_type": "text"
      },
      "source": [
        "<a href=\"https://colab.research.google.com/github/er-prateek-tripathi/Python/blob/master/DSA/Stacks/Finding_Celebrity.ipynb\" target=\"_parent\"><img src=\"https://colab.research.google.com/assets/colab-badge.svg\" alt=\"Open In Colab\"/></a>"
      ]
    },
    {
      "cell_type": "markdown",
      "source": [
        "**Celebrity Problem**\n",
        "\n",
        "\n",
        "The celebrity problem is a classic problem in computer science that asks how to identify a celebrity in a group of people. A celebrity is someone who is known to everyone else in the group, but does not know anyone else.\n",
        "\n",
        "**Flow**:\n",
        "\n",
        "1. Push all of the people in the group onto the stack.\n",
        "2. Pop two people from the stack.\n",
        "3. If the first person knows the second person, then keep the second person and discard the first person.\n",
        "4. Otherwise, keep the first person and discard the second person.\n",
        "5. Repeat steps 2 and 3 until there is only one person left on the stack.\n",
        "6. The person left on the stack is the celebrity.\n",
        "\n"
      ],
      "metadata": {
        "id": "5dLaKATgleJa"
      }
    },
    {
      "cell_type": "code",
      "execution_count": 29,
      "metadata": {
        "id": "VAjNt1H87oVf"
      },
      "outputs": [],
      "source": [
        "class Node:\n",
        "\n",
        "  def __init__(self,value):\n",
        "    self.data = value\n",
        "    self.next = None"
      ]
    },
    {
      "cell_type": "code",
      "source": [
        "class Stack:\n",
        "\n",
        "  def __init__(self):\n",
        "    self.top = None\n",
        "\n",
        "  #Checking if Stack is empty or not\n",
        "  def isEmpty(self):\n",
        "    return self.top == None\n",
        "\n",
        "  # Pushing values into stack\n",
        "  def push(self, value):\n",
        "    new_node = Node(value)\n",
        "    new_node.next = self.top\n",
        "    self.top = new_node\n",
        "\n",
        "  # Popping values from Stack\n",
        "  def pop(self):\n",
        "    if(self.isEmpty()):\n",
        "      return 'Stack Empty'\n",
        "    else:\n",
        "      data = self.top.data\n",
        "      self.top = self.top.next\n",
        "      return data\n",
        "\n",
        "  # Traversing Stack\n",
        "  def traverse(self):\n",
        "    temp = self.top\n",
        "    while temp != None:\n",
        "      print(temp.data)\n",
        "      temp = temp.next\n",
        "\n",
        "  def peek(self):\n",
        "    if(self.isEmpty()):\n",
        "      return 'Stack Empty'\n",
        "    else:\n",
        "      return self.top.data\n",
        "\n",
        "  # Size of Stack\n",
        "  def sizeof(self):\n",
        "    temp = self.top\n",
        "    count = 0\n",
        "    while temp != None:\n",
        "      count += 1\n",
        "      temp = temp.next\n",
        "\n",
        "    return count"
      ],
      "metadata": {
        "id": "We4cmr8ACkZI"
      },
      "execution_count": 30,
      "outputs": []
    },
    {
      "cell_type": "code",
      "source": [
        "S = Stack()"
      ],
      "metadata": {
        "id": "0gGq_IDfl8qn"
      },
      "execution_count": 31,
      "outputs": []
    },
    {
      "cell_type": "code",
      "source": [
        "L = [[0, 1, 0, 0],\n",
        "     [0, 0, 1, 1],\n",
        "     [1, 0, 0, 1],\n",
        "     [0, 0, 0, 0]]\n",
        "\n",
        "L1 = [[0, 1, 0, 0],\n",
        "      [0, 0, 1, 0],\n",
        "      [0, 0, 0, 0],\n",
        "      [1, 0, 1, 0]]\n",
        "\n",
        "L2 = [[0, 0, 1, 1],\n",
        "      [0, 0, 1, 0],\n",
        "      [0, 0, 0, 0],\n",
        "      [0, 0, 1, 0]]"
      ],
      "metadata": {
        "id": "5FcoFfIjnfdC"
      },
      "execution_count": 32,
      "outputs": []
    },
    {
      "cell_type": "code",
      "source": [
        "def celebrity(L):\n",
        "  S = Stack()\n",
        "  for i in range(len(L)):\n",
        "    S.push(i)\n",
        "\n",
        "  while S.sizeof() >= 2:\n",
        "    i = S.pop()\n",
        "    j = S.pop()\n",
        "\n",
        "    if L[i][j] == 1:\n",
        "      S.push(j)\n",
        "    else:\n",
        "      S.push(i)\n",
        "\n",
        "  cel = S.pop()\n",
        "\n",
        "  for i in range(len(L)):\n",
        "    if i != cel:\n",
        "      if L[i][cel] != 1 or L[cel][i] != 0:\n",
        "        print(\"No Celebrity found!!\")\n",
        "        return\n",
        "  print(\"Celebrity is: \", cel)"
      ],
      "metadata": {
        "id": "rvxDypOhrZca"
      },
      "execution_count": 33,
      "outputs": []
    },
    {
      "cell_type": "code",
      "source": [
        "celebrity(L2)"
      ],
      "metadata": {
        "colab": {
          "base_uri": "https://localhost:8080/"
        },
        "id": "4AErCppOno-j",
        "outputId": "5acefc7d-4bdd-4cb0-e8e8-c79ec53d5869"
      },
      "execution_count": 39,
      "outputs": [
        {
          "output_type": "stream",
          "name": "stdout",
          "text": [
            "Celebrity is:  2\n"
          ]
        }
      ]
    },
    {
      "cell_type": "code",
      "source": [
        "L2"
      ],
      "metadata": {
        "colab": {
          "base_uri": "https://localhost:8080/"
        },
        "id": "HSv2pzMans94",
        "outputId": "8607bcf9-6ed4-4822-9c6f-6ab37e5632e2"
      },
      "execution_count": 35,
      "outputs": [
        {
          "output_type": "execute_result",
          "data": {
            "text/plain": [
              "[[0, 0, 1, 1], [0, 0, 1, 0], [0, 0, 0, 0], [0, 0, 1, 0]]"
            ]
          },
          "metadata": {},
          "execution_count": 35
        }
      ]
    },
    {
      "cell_type": "code",
      "source": [],
      "metadata": {
        "id": "LVyDpi60nwNv"
      },
      "execution_count": 26,
      "outputs": []
    }
  ]
}