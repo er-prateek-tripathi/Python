{
  "nbformat": 4,
  "nbformat_minor": 0,
  "metadata": {
    "colab": {
      "provenance": [],
      "authorship_tag": "ABX9TyPIDm6xLPSlVWmxeC15glBM",
      "include_colab_link": true
    },
    "kernelspec": {
      "name": "python3",
      "display_name": "Python 3"
    },
    "language_info": {
      "name": "python"
    }
  },
  "cells": [
    {
      "cell_type": "markdown",
      "metadata": {
        "id": "view-in-github",
        "colab_type": "text"
      },
      "source": [
        "<a href=\"https://colab.research.google.com/github/er-prateek-tripathi/Python/blob/master/DSA/Stacks/Stack_Brackets.ipynb\" target=\"_parent\"><img src=\"https://colab.research.google.com/assets/colab-badge.svg\" alt=\"Open In Colab\"/></a>"
      ]
    },
    {
      "cell_type": "code",
      "execution_count": 1,
      "metadata": {
        "id": "VAjNt1H87oVf"
      },
      "outputs": [],
      "source": [
        "class Node:\n",
        "\n",
        "  def __init__(self,value):\n",
        "    self.data = value\n",
        "    self.next = None"
      ]
    },
    {
      "cell_type": "code",
      "source": [
        "class Stack:\n",
        "\n",
        "  def __init__(self):\n",
        "    self.top = None\n",
        "\n",
        "  #Checking if Stack is empty or not\n",
        "  def isEmpty(self):\n",
        "    return self.top == None\n",
        "\n",
        "  # Pushing values into stack\n",
        "  def push(self, value):\n",
        "    new_node = Node(value)\n",
        "    new_node.next = self.top\n",
        "    self.top = new_node\n",
        "\n",
        "  # Popping values from Stack\n",
        "  def pop(self):\n",
        "    if(self.isEmpty()):\n",
        "      return 'Stack Empty'\n",
        "    else:\n",
        "      data = self.top.data\n",
        "      self.top = self.top.next\n",
        "      return data\n",
        "\n",
        "  # Traversing Stack\n",
        "  def traverse(self):\n",
        "    temp = self.top\n",
        "    while temp != None:\n",
        "      print(temp.data)\n",
        "      temp = temp.next\n",
        "\n",
        "  def peek(self):\n",
        "    if(self.isEmpty()):\n",
        "      return 'Stack Empty'\n",
        "    else:\n",
        "      return self.top.data\n",
        "\n",
        "  # Size of Stack\n",
        "  def sizeof(self):\n",
        "    temp = self.top\n",
        "    count = 0\n",
        "    while temp != None:\n",
        "      count += 1\n",
        "      temp = temp.next\n",
        "\n",
        "    return count"
      ],
      "metadata": {
        "id": "We4cmr8ACkZI"
      },
      "execution_count": 2,
      "outputs": []
    },
    {
      "cell_type": "markdown",
      "source": [
        "**Function Overview**:\n",
        "\n",
        "The brackets() function takes a string expr as input and determines whether the parentheses in the expression are balanced. It utilizes a stack to keep track of the opening and closing parentheses.\n",
        "\n",
        "**Initialization**:\n",
        "\n",
        "The function starts by creating an empty stack s using the Stack() constructor. This stack will be used to store the opening parentheses.\n",
        "\n",
        "**Processing Expression**:\n",
        "\n",
        "The function iterates through the expression string expr using a for loop. For each character, it performs the following actions:\n",
        "\n",
        "1. Opening Parenthesis:\n",
        "If the current character is an opening parenthesis ( (check i == '('), it is pushed onto the stack using the s.push(i) method. This indicates that an opening parenthesis is encountered.\n",
        "\n",
        "2. Closing Parenthesis:\n",
        "If the current character is a closing parenthesis ) (check i == ')'), it checks whether the top element of the stack is an opening parenthesis. To do this, it uses the s.peek() method to access the top element without removing it.\n",
        "\n",
        "3. Balanced Parenthesis Pair:If the top element is an opening parenthesis `(` (check `s.peek() == '('`), it indicates a balanced parenthesis pair. The top element is removed from the stack using the `s.pop()` method.\n",
        "\n",
        "4. Imbalanced Parenthesis:\n",
        "If the top element is not an opening parenthesis or the stack is empty, it means there is an imbalance in the parentheses. The function prints an error message `\"Imbalanced\"` and returns immediately using the `return` statement.\n",
        "  \n",
        "**Checking Stack Status**:\n",
        "\n",
        "After processing the entire expression, the function checks whether the stack is empty using the s.is_empty() method.\n",
        "\n",
        "1. Empty Stack (Balanced):\n",
        "If the stack is empty, it indicates that all opening parentheses have been matched with closing parentheses. The function prints a message \"Balanced\" indicating balanced parentheses.\n",
        "\n",
        "2. Non-empty Stack (Imbalanced):\n",
        "If the stack is not empty, it means there are unmatched parentheses, indicating an imbalance. The function prints a message \"Imbalanced\" indicating imbalanced parentheses."
      ],
      "metadata": {
        "id": "_GWnLG9lcCjH"
      }
    },
    {
      "cell_type": "code",
      "source": [
        "def brackets(expr):\n",
        "\n",
        "  s = Stack()\n",
        "\n",
        "  for i in expr:\n",
        "\n",
        "    if i == '(':\n",
        "      s.push(i)\n",
        "    elif i == ')':\n",
        "      if s.peek() == '(':\n",
        "        s.pop()\n",
        "      else:\n",
        "        print(\"Imbalanced\")\n",
        "        return\n",
        "\n",
        "  if (s.isEmpty()):\n",
        "    print(\"Balanced\")\n",
        "  else:\n",
        "    print(\"Imbalanced\")"
      ],
      "metadata": {
        "id": "bBfMLe8ybuiW"
      },
      "execution_count": 5,
      "outputs": []
    },
    {
      "cell_type": "code",
      "source": [
        "brackets('[(a+b) + (c+b)]')"
      ],
      "metadata": {
        "colab": {
          "base_uri": "https://localhost:8080/"
        },
        "id": "P4YnzMshdEGK",
        "outputId": "cd8e784d-40df-4870-8343-34dd34aff4b5"
      },
      "execution_count": 8,
      "outputs": [
        {
          "output_type": "stream",
          "name": "stdout",
          "text": [
            "Balanced\n"
          ]
        }
      ]
    },
    {
      "cell_type": "code",
      "source": [],
      "metadata": {
        "id": "uQeOcWLPdUEG"
      },
      "execution_count": null,
      "outputs": []
    }
  ]
}