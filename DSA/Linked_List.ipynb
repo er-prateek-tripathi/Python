{
  "nbformat": 4,
  "nbformat_minor": 0,
  "metadata": {
    "colab": {
      "provenance": [],
      "authorship_tag": "ABX9TyN5CRk9JJs3zsnFhCnhYJdb",
      "include_colab_link": true
    },
    "kernelspec": {
      "name": "python3",
      "display_name": "Python 3"
    },
    "language_info": {
      "name": "python"
    }
  },
  "cells": [
    {
      "cell_type": "markdown",
      "metadata": {
        "id": "view-in-github",
        "colab_type": "text"
      },
      "source": [
        "<a href=\"https://colab.research.google.com/github/er-prateek-tripathi/Python/blob/master/DSA/Linked_List.ipynb\" target=\"_parent\"><img src=\"https://colab.research.google.com/assets/colab-badge.svg\" alt=\"Open In Colab\"/></a>"
      ]
    },
    {
      "cell_type": "markdown",
      "source": [
        "**Here We will learn how to create nodes of a linked list and how to connect them manually.**"
      ],
      "metadata": {
        "id": "D6LhrcAGcZxl"
      }
    },
    {
      "cell_type": "code",
      "execution_count": 1,
      "metadata": {
        "id": "92vyJnQfi_-E"
      },
      "outputs": [],
      "source": [
        "class Node:\n",
        "\n",
        "  def __init__(self, value):\n",
        "    self.data = value\n",
        "    self.next = None"
      ]
    },
    {
      "cell_type": "code",
      "source": [
        "a = Node(1)\n",
        "b = Node(\"Pragya\")\n",
        "c = Node(\"Loves\")\n",
        "d = Node(\"Prateek\")"
      ],
      "metadata": {
        "id": "HdBRxtZUl3wj"
      },
      "execution_count": 2,
      "outputs": []
    },
    {
      "cell_type": "code",
      "source": [
        "# linking the nodes\n",
        "\n",
        "a.next = b\n",
        "b.next = c\n",
        "c.next = d"
      ],
      "metadata": {
        "id": "bxXmRJdZa1gk"
      },
      "execution_count": 3,
      "outputs": []
    },
    {
      "cell_type": "code",
      "source": [
        "print(\"a\", id(a))\n",
        "print(\"b\", id(b))\n",
        "print(\"c\", id(c))\n",
        "print(\"d\", id(d))"
      ],
      "metadata": {
        "colab": {
          "base_uri": "https://localhost:8080/"
        },
        "id": "ZrLG5ZBobBY4",
        "outputId": "0c642f79-1df3-4e27-dda3-2fcc08e14ee2"
      },
      "execution_count": 4,
      "outputs": [
        {
          "output_type": "stream",
          "name": "stdout",
          "text": [
            "a 138454245611152\n",
            "b 138454245610048\n",
            "c 138454245610288\n",
            "d 138454245611248\n"
          ]
        }
      ]
    },
    {
      "cell_type": "code",
      "source": [
        "print(a.next)\n",
        "print(a.data)"
      ],
      "metadata": {
        "colab": {
          "base_uri": "https://localhost:8080/"
        },
        "id": "TzlY5NgJl753",
        "outputId": "1fee2248-e402-4011-9b89-fce63afb698b"
      },
      "execution_count": 5,
      "outputs": [
        {
          "output_type": "stream",
          "name": "stdout",
          "text": [
            "<__main__.Node object at 0x7dec64209240>\n",
            "1\n"
          ]
        }
      ]
    },
    {
      "cell_type": "code",
      "source": [
        "int(0x7cd226deebf0)"
      ],
      "metadata": {
        "colab": {
          "base_uri": "https://localhost:8080/"
        },
        "id": "O7TrbIsna0Fi",
        "outputId": "58aaa0df-9b8a-4152-e758-a1f4441f2b3d"
      },
      "execution_count": 6,
      "outputs": [
        {
          "output_type": "execute_result",
          "data": {
            "text/plain": [
              "137242037119984"
            ]
          },
          "metadata": {},
          "execution_count": 6
        }
      ]
    },
    {
      "cell_type": "code",
      "source": [
        "print(b.next)\n",
        "print(b.data)"
      ],
      "metadata": {
        "colab": {
          "base_uri": "https://localhost:8080/"
        },
        "id": "ytD96izzl9WA",
        "outputId": "0d1da5cc-95b1-4724-c33f-8515db4d5fd2"
      },
      "execution_count": 7,
      "outputs": [
        {
          "output_type": "stream",
          "name": "stdout",
          "text": [
            "<__main__.Node object at 0x7dec64209330>\n",
            "Pragya\n"
          ]
        }
      ]
    },
    {
      "cell_type": "code",
      "source": [
        "int(0x7cd226def430)"
      ],
      "metadata": {
        "colab": {
          "base_uri": "https://localhost:8080/"
        },
        "id": "UOwcDS9Fb3g5",
        "outputId": "f1636f04-2b87-4301-b95f-9f04957e776e"
      },
      "execution_count": 8,
      "outputs": [
        {
          "output_type": "execute_result",
          "data": {
            "text/plain": [
              "137242037122096"
            ]
          },
          "metadata": {},
          "execution_count": 8
        }
      ]
    },
    {
      "cell_type": "code",
      "source": [
        "print(c.next)\n",
        "print(c.data)"
      ],
      "metadata": {
        "colab": {
          "base_uri": "https://localhost:8080/"
        },
        "id": "5XokkkYCaZPB",
        "outputId": "173dd070-6415-4149-cc0f-c9ab7ae3d42a"
      },
      "execution_count": 9,
      "outputs": [
        {
          "output_type": "stream",
          "name": "stdout",
          "text": [
            "<__main__.Node object at 0x7dec642096f0>\n",
            "Loves\n"
          ]
        }
      ]
    },
    {
      "cell_type": "code",
      "source": [
        "int(0x7cd226deffa0)"
      ],
      "metadata": {
        "colab": {
          "base_uri": "https://localhost:8080/"
        },
        "id": "LYn9TOQKcHRq",
        "outputId": "fbfad142-9749-4700-b009-e74846732335"
      },
      "execution_count": 10,
      "outputs": [
        {
          "output_type": "execute_result",
          "data": {
            "text/plain": [
              "137242037125024"
            ]
          },
          "metadata": {},
          "execution_count": 10
        }
      ]
    },
    {
      "cell_type": "code",
      "source": [
        "print(d.next)\n",
        "print(d.data)"
      ],
      "metadata": {
        "colab": {
          "base_uri": "https://localhost:8080/"
        },
        "id": "ldTyCwmAabcM",
        "outputId": "f140daa3-40fe-4d57-ecff-eccf59df2d22"
      },
      "execution_count": 11,
      "outputs": [
        {
          "output_type": "stream",
          "name": "stdout",
          "text": [
            "None\n",
            "Prateek\n"
          ]
        }
      ]
    },
    {
      "cell_type": "markdown",
      "source": [
        "**Here We will learn to do the things done above with the help of classes.**"
      ],
      "metadata": {
        "id": "egOszRmzcypK"
      }
    },
    {
      "cell_type": "code",
      "source": [
        "class Node:\n",
        "\n",
        "  def __init__(self, value):\n",
        "    self.data = value\n",
        "    self.next = None"
      ],
      "metadata": {
        "id": "_vSt4oEUc8QB"
      },
      "execution_count": 12,
      "outputs": []
    },
    {
      "cell_type": "code",
      "source": [
        "class LinkedList:\n",
        "\n",
        "  def __init__(self):\n",
        "\n",
        "    # Empty linked list: zero nodes: head = None\n",
        "    self.head = None\n",
        "    self.count = 0\n",
        "\n",
        "  def __len__(self):\n",
        "    return self.count\n",
        "\n",
        "  # Inserting a value at the start of the linked list\n",
        "  def insert_head(self, value):\n",
        "\n",
        "    # adding a new node\n",
        "    new_node = Node(value)\n",
        "\n",
        "    # connecting he new node with the linked list\n",
        "    new_node.next = self.head\n",
        "\n",
        "    # reassigning the position of head to the new node\n",
        "    self.head = new_node\n",
        "\n",
        "    # incrementing the length of nodes\n",
        "    self.count = self.count + 1\n",
        "\n",
        "  # Printing the liked list\n",
        "  def __str__(self):\n",
        "\n",
        "    curr = self.head\n",
        "\n",
        "    result = ''\n",
        "\n",
        "    while curr != None:\n",
        "\n",
        "      result = result + str(curr.data) + ' -> '\n",
        "      curr = curr.next\n",
        "\n",
        "    return result[:-3]\n",
        "\n",
        "  # Insertion at tail: appending the linked list\n",
        "  def append(self, value):\n",
        "\n",
        "    new_node = Node(value)\n",
        "\n",
        "    # if the linked list is EMPTY\n",
        "    if self.head == None:\n",
        "      self.head = new_node\n",
        "      self.count = self.count + 1\n",
        "      return\n",
        "\n",
        "    curr = self.head\n",
        "\n",
        "    while curr.next != None:\n",
        "      curr = curr.next\n",
        "\n",
        "    # at the last node\n",
        "    curr.next = new_node\n",
        "    self.count = self.count + 1\n",
        "\n",
        "  # Inserting after a certain value\n",
        "  def insert_after(self, after, value):\n",
        "\n",
        "    new_node = Node(value)\n",
        "\n",
        "    curr = self.head\n",
        "\n",
        "    while curr != None:\n",
        "\n",
        "      if curr.data == after:\n",
        "        break\n",
        "\n",
        "      curr = curr.next\n",
        "\n",
        "      # case 1: Break: We found the after node: curr -> not None\n",
        "    if curr != None:\n",
        "      new_node.next = curr.next\n",
        "      curr.next = new_node\n",
        "      curr = new_node\n",
        "      self.count = self.count + 1\n",
        "    else:\n",
        "      return \"After node not found!!!\"\n",
        "      # case 2: No break: Loop ran till end, after node not found: curr -> Nonee\n",
        "\n",
        "  # Deleting whole linked list values\n",
        "  def clear(self):\n",
        "    self.head = None\n",
        "    self.count = 0\n",
        "\n",
        "  # Deleting at head\n",
        "  def delete_head(self):\n",
        "\n",
        "    if self.head == None:\n",
        "      # Empty List\n",
        "      return 'Empty Linked List'\n",
        "    self.head = self.head.next\n",
        "    self.count = self.count - 1\n",
        "\n",
        "  # Deleting at tail\n",
        "  def pop(self):\n",
        "\n",
        "    if self.head == None:\n",
        "      # Empty List\n",
        "      return 'Empty Linked List'\n",
        "\n",
        "    curr = self.head\n",
        "\n",
        "    # if there is only one node in linked list\n",
        "    if curr.next == None:\n",
        "      #it is head\n",
        "      return self.delete_head()\n",
        "\n",
        "    while curr.next.next != None:\n",
        "      curr = curr.next\n",
        "\n",
        "    # We are at 2nd last node\n",
        "    curr.next = None\n",
        "    self.count = self.count - 1\n",
        "\n",
        "  # Removing a certain node\n",
        "  def remove(self, value):\n",
        "\n",
        "    if self.head == None:\n",
        "      # Empty List\n",
        "      return 'Empty Linked List'\n",
        "\n",
        "    if self.head.data == value:\n",
        "      # deleting Head node\n",
        "      return self.delete_head()\n",
        "\n",
        "    curr = self.head\n",
        "\n",
        "    while curr.next != None:\n",
        "      if curr.next.data == value:\n",
        "        break\n",
        "      curr = curr.next\n",
        "\n",
        "    # Value not found\n",
        "    if curr.next == None:\n",
        "      return 'Not Found'\n",
        "    else:\n",
        "      # Value Found\n",
        "      curr.next = curr.next.next\n",
        "      self.count = self.count - 1\n",
        "\n",
        "  # Searhing by Value\n",
        "  def search(self, value):\n",
        "\n",
        "    curr = self.head\n",
        "    pos = 0\n",
        "\n",
        "    while curr != None:\n",
        "      if curr.data == value:\n",
        "        return 'Found at index: ', pos\n",
        "      curr = curr.next\n",
        "      pos = pos + 1\n",
        "\n",
        "    return 'Not Found'\n",
        "\n",
        "  # Search by index\n",
        "  def __getitem__(self, index):\n",
        "\n",
        "    curr = self.head\n",
        "    pos = 0\n",
        "\n",
        "    while curr != None:\n",
        "      if pos == index:\n",
        "        return curr.data\n",
        "      curr = curr.next\n",
        "      pos = pos + 1\n",
        "\n",
        "    return 'Not Found'\n",
        "\n",
        "\n"
      ],
      "metadata": {
        "id": "2m2zgzoYdAiR"
      },
      "execution_count": 13,
      "outputs": []
    },
    {
      "cell_type": "code",
      "source": [
        "L = LinkedList()"
      ],
      "metadata": {
        "id": "pToEFEG3dZtU"
      },
      "execution_count": 14,
      "outputs": []
    },
    {
      "cell_type": "code",
      "source": [
        "print(L)"
      ],
      "metadata": {
        "colab": {
          "base_uri": "https://localhost:8080/"
        },
        "id": "v3NhKf0CdrLp",
        "outputId": "bf9a8c41-1ad0-4ada-ff7a-83c1aea40508"
      },
      "execution_count": 15,
      "outputs": [
        {
          "output_type": "stream",
          "name": "stdout",
          "text": [
            "\n"
          ]
        }
      ]
    },
    {
      "cell_type": "code",
      "source": [
        "# Length of a linked list is the number of nodes in a linked list.\n",
        "len(L)"
      ],
      "metadata": {
        "colab": {
          "base_uri": "https://localhost:8080/"
        },
        "id": "T8M3iWdKdsQV",
        "outputId": "2ada1db9-e49e-4465-f826-c541d63240a3"
      },
      "execution_count": 16,
      "outputs": [
        {
          "output_type": "execute_result",
          "data": {
            "text/plain": [
              "0"
            ]
          },
          "metadata": {},
          "execution_count": 16
        }
      ]
    },
    {
      "cell_type": "markdown",
      "source": [
        "**Insertion of Data**\n",
        "\n",
        "**at Head**"
      ],
      "metadata": {
        "id": "JyafotQEgn_X"
      }
    },
    {
      "cell_type": "code",
      "source": [
        "L.insert_head(1)\n",
        "L.insert_head(2)\n",
        "L.insert_head(3)\n",
        "L.insert_head(4)\n",
        "L.insert_head(5)\n",
        "L.insert_head(6)\n",
        "L.insert_head(7)\n",
        "L.insert_head(8)\n",
        "L.insert_head(9)\n",
        "L.insert_head(10)"
      ],
      "metadata": {
        "id": "KWVO1h4teL6P"
      },
      "execution_count": 17,
      "outputs": []
    },
    {
      "cell_type": "markdown",
      "source": [
        "**Traversal and Printing the Linked List**"
      ],
      "metadata": {
        "id": "OkDQpc0ggt6_"
      }
    },
    {
      "cell_type": "code",
      "source": [
        "print(\"Linked list: \", L)\n",
        "print(\"Length: \", len(L))"
      ],
      "metadata": {
        "colab": {
          "base_uri": "https://localhost:8080/"
        },
        "id": "wNxoaP5wgeZ8",
        "outputId": "238fca0c-b78d-421b-cb32-0d9d0897c28a"
      },
      "execution_count": 18,
      "outputs": [
        {
          "output_type": "stream",
          "name": "stdout",
          "text": [
            "Linked list:  10 -> 9 -> 8 -> 7 -> 6 -> 5 -> 4 -> 3 -> 2 -> 1 \n",
            "Length:  10\n"
          ]
        }
      ]
    },
    {
      "cell_type": "markdown",
      "source": [
        "**Insertion of data from Tail of a Linked List**\n",
        "\n",
        "1. Create a new_node\n",
        "2. traverse to the tale node.\n",
        "3. set the next of the tail to new_node\n",
        "\n",
        "Traversal and stopping analogy in linked list:\n",
        "\n",
        "1. if you want to stop at end of a list use this condition in loop:\n",
        "  **curr != None**\n",
        "\n",
        "2. if you want to stop one node before the end use:\n",
        "  **curr.next != None**\n",
        "\n",
        "3. if you want to stop two nodes before the end use:\n",
        "  **curr.next.next != None**\n",
        "\n",
        "4. use the **similar analogy** to stop at any location before the end of the linked list."
      ],
      "metadata": {
        "id": "YgS2-2RCkFiS"
      }
    },
    {
      "cell_type": "code",
      "source": [
        "L.append(11)\n",
        "print(\"Linked list: \", L)\n",
        "print(\"Length: \", len(L))"
      ],
      "metadata": {
        "id": "Z_yB73cri5wZ",
        "colab": {
          "base_uri": "https://localhost:8080/"
        },
        "outputId": "0fef03d3-a04b-4315-99fe-1699fb2fab0b"
      },
      "execution_count": 19,
      "outputs": [
        {
          "output_type": "stream",
          "name": "stdout",
          "text": [
            "Linked list:  10 -> 9 -> 8 -> 7 -> 6 -> 5 -> 4 -> 3 -> 2 -> 1 -> 11 \n",
            "Length:  11\n"
          ]
        }
      ]
    },
    {
      "cell_type": "markdown",
      "source": [
        "**Inserting a node after a node somewhere in the linked list**\n",
        "\n",
        "**inser_after**\n",
        "\n",
        "curr = after node\n",
        "\n",
        "Algorithm:\n",
        "\n",
        "1. traverse to after node\n",
        "2. new_node.next = curr.next\n",
        "3. curr.next = new_node\n",
        "\n",
        "\n",
        "**Flow**\n",
        "1. after node value will be given, after which you have to insert the new node.\n",
        "\n",
        "2. we will search to the after node value.\n",
        "\n",
        "3. we will then break the connection between the after node value and its successive node\n",
        "\n",
        "4. later next of new node will be connected to data of successive node\n",
        "\n",
        "5. we will attach the data of new node to next of after node"
      ],
      "metadata": {
        "id": "e5gny0RZoVww"
      }
    },
    {
      "cell_type": "code",
      "source": [
        "# experimenting case 2\n",
        "L.insert_after(1, 0)"
      ],
      "metadata": {
        "id": "Rrc460xzm0FL"
      },
      "execution_count": 20,
      "outputs": []
    },
    {
      "cell_type": "code",
      "source": [
        "print(L)"
      ],
      "metadata": {
        "id": "zX0ifr3dwcgL",
        "colab": {
          "base_uri": "https://localhost:8080/"
        },
        "outputId": "258ab666-f4bf-4736-dc2b-48efc99473a5"
      },
      "execution_count": 21,
      "outputs": [
        {
          "output_type": "stream",
          "name": "stdout",
          "text": [
            "10 -> 9 -> 8 -> 7 -> 6 -> 5 -> 4 -> 3 -> 2 -> 1 -> 0 -> 11 \n"
          ]
        }
      ]
    },
    {
      "cell_type": "markdown",
      "source": [
        "**Cearing a Linked List**\n",
        "\n",
        "point the head node to none and put count = 0"
      ],
      "metadata": {
        "id": "ej46k8ab0-gn"
      }
    },
    {
      "cell_type": "code",
      "source": [
        "# L.clear()\n",
        "# print(L)"
      ],
      "metadata": {
        "id": "3UTGbrnqweAi"
      },
      "execution_count": 22,
      "outputs": []
    },
    {
      "cell_type": "markdown",
      "source": [
        "**Deleting/poping from head**\n",
        "\n",
        "Logic:\n",
        "\n",
        "Point the head node to te successive node.\n",
        "\n",
        "**head = head.next**"
      ],
      "metadata": {
        "id": "cbyruuJ8159G"
      }
    },
    {
      "cell_type": "code",
      "source": [
        "L.delete_head()\n",
        "print(\"Linked list: \", L)\n",
        "print(\"Length: \", len(L))"
      ],
      "metadata": {
        "colab": {
          "base_uri": "https://localhost:8080/"
        },
        "id": "XpqSnmfw1jCh",
        "outputId": "9070dc08-edc1-4c2a-f5b5-c5e117d81530"
      },
      "execution_count": 23,
      "outputs": [
        {
          "output_type": "stream",
          "name": "stdout",
          "text": [
            "Linked list:  9 -> 8 -> 7 -> 6 -> 5 -> 4 -> 3 -> 2 -> 1 -> 0 -> 11 \n",
            "Length:  11\n"
          ]
        }
      ]
    },
    {
      "cell_type": "markdown",
      "source": [
        "**Deleting/poping from tail**\n",
        "\n",
        "Logic:\n",
        "Flow:\n",
        "1. Run a loop and stop at the second last item: **curr.next.next != None**\n",
        "\n",
        "2. Change the value of next to None: **curr.next = None**\n"
      ],
      "metadata": {
        "id": "JuD0-oUe2o7_"
      }
    },
    {
      "cell_type": "code",
      "source": [
        "L.pop()\n",
        "print(\"Linked list: \", L)\n",
        "print(\"Length: \", len(L))"
      ],
      "metadata": {
        "colab": {
          "base_uri": "https://localhost:8080/"
        },
        "id": "Qe3dPwJP1ka2",
        "outputId": "aba7bdcd-ee9e-402d-f65e-292054b02ebf"
      },
      "execution_count": 24,
      "outputs": [
        {
          "output_type": "stream",
          "name": "stdout",
          "text": [
            "Linked list:  9 -> 8 -> 7 -> 6 -> 5 -> 4 -> 3 -> 2 -> 1 -> 0 \n",
            "Length:  10\n"
          ]
        }
      ]
    },
    {
      "cell_type": "markdown",
      "source": [
        "**Deletion by value**\n",
        "\n",
        "Flow:\n",
        "1. Traverse to predecessor node of value provided: **curr.next != None**\n",
        "2. Point the next node of predecessor to the successor node of provided value: **curr.next = curr.next.next**"
      ],
      "metadata": {
        "id": "d1JSONaC6HB_"
      }
    },
    {
      "cell_type": "code",
      "source": [
        "# deleting head\n",
        "L.remove(9)\n",
        "print(\"Linked list: \", L)\n",
        "print(\"Length: \", len(L))"
      ],
      "metadata": {
        "colab": {
          "base_uri": "https://localhost:8080/"
        },
        "id": "nitZpEVl47k_",
        "outputId": "64e3c20f-4045-4d95-8702-33f9c399e9f5"
      },
      "execution_count": 25,
      "outputs": [
        {
          "output_type": "stream",
          "name": "stdout",
          "text": [
            "Linked list:  8 -> 7 -> 6 -> 5 -> 4 -> 3 -> 2 -> 1 -> 0 \n",
            "Length:  9\n"
          ]
        }
      ]
    },
    {
      "cell_type": "code",
      "source": [
        "# deleting tail\n",
        "L.remove(0)\n",
        "print(\"Linked list: \", L)\n",
        "print(\"Length: \", len(L))"
      ],
      "metadata": {
        "colab": {
          "base_uri": "https://localhost:8080/"
        },
        "id": "UYGucaMq9v7q",
        "outputId": "6b459cac-2692-4aa9-e90a-3e5957912e52"
      },
      "execution_count": 26,
      "outputs": [
        {
          "output_type": "stream",
          "name": "stdout",
          "text": [
            "Linked list:  8 -> 7 -> 6 -> 5 -> 4 -> 3 -> 2 -> 1 \n",
            "Length:  8\n"
          ]
        }
      ]
    },
    {
      "cell_type": "code",
      "source": [
        "# deleting any value\n",
        "L.remove(8)\n",
        "print(\"Linked list: \", L)\n",
        "print(\"Length: \", len(L))"
      ],
      "metadata": {
        "colab": {
          "base_uri": "https://localhost:8080/"
        },
        "id": "i8c-zasw-HtJ",
        "outputId": "7c8a4dcb-fde8-454d-ef7e-93fd65c59335"
      },
      "execution_count": 27,
      "outputs": [
        {
          "output_type": "stream",
          "name": "stdout",
          "text": [
            "Linked list:  7 -> 6 -> 5 -> 4 -> 3 -> 2 -> 1 \n",
            "Length:  7\n"
          ]
        }
      ]
    },
    {
      "cell_type": "markdown",
      "source": [
        "**Searching in a Linked List**\n",
        "\n",
        "Searching by value.\n",
        "\n",
        "Traverse the linked list\n",
        "and match: **curr.data == value**"
      ],
      "metadata": {
        "id": "wqsXleYz-9Mz"
      }
    },
    {
      "cell_type": "code",
      "source": [
        "L.search(6)"
      ],
      "metadata": {
        "colab": {
          "base_uri": "https://localhost:8080/"
        },
        "id": "NYe6Cn4z-PN9",
        "outputId": "31498c10-ede5-4b67-c37c-19dbd899ebe4"
      },
      "execution_count": 28,
      "outputs": [
        {
          "output_type": "execute_result",
          "data": {
            "text/plain": [
              "('Found at index: ', 1)"
            ]
          },
          "metadata": {},
          "execution_count": 28
        }
      ]
    },
    {
      "cell_type": "markdown",
      "source": [
        "**Searching by index**\n",
        "\n"
      ],
      "metadata": {
        "id": "j4kBNTluCpVi"
      }
    },
    {
      "cell_type": "code",
      "source": [
        "L[2] # L[2] = 5"
      ],
      "metadata": {
        "colab": {
          "base_uri": "https://localhost:8080/"
        },
        "id": "MbPd0z2fAcEf",
        "outputId": "3987f2b5-6ef6-4306-fe63-f279e909c412"
      },
      "execution_count": 29,
      "outputs": [
        {
          "output_type": "execute_result",
          "data": {
            "text/plain": [
              "5"
            ]
          },
          "metadata": {},
          "execution_count": 29
        }
      ]
    },
    {
      "cell_type": "code",
      "source": [],
      "metadata": {
        "id": "xaK7mBI-C4Ko"
      },
      "execution_count": 29,
      "outputs": []
    }
  ]
}