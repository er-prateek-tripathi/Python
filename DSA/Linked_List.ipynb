{
  "nbformat": 4,
  "nbformat_minor": 0,
  "metadata": {
    "colab": {
      "provenance": [],
      "authorship_tag": "ABX9TyN5CRk9JJs3zsnFhCnhYJdb",
      "include_colab_link": true
    },
    "kernelspec": {
      "name": "python3",
      "display_name": "Python 3"
    },
    "language_info": {
      "name": "python"
    }
  },
  "cells": [
    {
      "cell_type": "markdown",
      "metadata": {
        "id": "view-in-github",
        "colab_type": "text"
      },
      "source": [
        "<a href=\"https://colab.research.google.com/github/er-prateek-tripathi/Python/blob/master/DSA/Linked_List.ipynb\" target=\"_parent\"><img src=\"https://colab.research.google.com/assets/colab-badge.svg\" alt=\"Open In Colab\"/></a>"
      ]
    },
    {
      "cell_type": "markdown",
      "source": [
        "**Here We will learn how to create nodes of a linked list and how to connect them manually.**"
      ],
      "metadata": {
        "id": "D6LhrcAGcZxl"
      }
    },
    {
      "cell_type": "code",
      "execution_count": 24,
      "metadata": {
        "id": "92vyJnQfi_-E"
      },
      "outputs": [],
      "source": [
        "class Node:\n",
        "\n",
        "  def __init__(self, value):\n",
        "    self.data = value\n",
        "    self.next = None"
      ]
    },
    {
      "cell_type": "code",
      "source": [
        "a = Node(1)\n",
        "b = Node(\"Pragya\")\n",
        "c = Node(\"Loves\")\n",
        "d = Node(\"Prateek\")"
      ],
      "metadata": {
        "id": "HdBRxtZUl3wj"
      },
      "execution_count": 25,
      "outputs": []
    },
    {
      "cell_type": "code",
      "source": [
        "# linking the nodes\n",
        "\n",
        "a.next = b\n",
        "b.next = c\n",
        "c.next = d"
      ],
      "metadata": {
        "id": "bxXmRJdZa1gk"
      },
      "execution_count": 26,
      "outputs": []
    },
    {
      "cell_type": "code",
      "source": [
        "print(\"a\", id(a))\n",
        "print(\"b\", id(b))\n",
        "print(\"c\", id(c))\n",
        "print(\"d\", id(d))"
      ],
      "metadata": {
        "colab": {
          "base_uri": "https://localhost:8080/"
        },
        "id": "ZrLG5ZBobBY4",
        "outputId": "7eed584c-9005-44ae-dedc-bb7afb91d70c"
      },
      "execution_count": 27,
      "outputs": [
        {
          "output_type": "stream",
          "name": "stdout",
          "text": [
            "a 140292078090944\n",
            "b 140292078082544\n",
            "c 140292078084896\n",
            "d 140292078087152\n"
          ]
        }
      ]
    },
    {
      "cell_type": "code",
      "source": [
        "print(a.next)\n",
        "print(a.data)"
      ],
      "metadata": {
        "colab": {
          "base_uri": "https://localhost:8080/"
        },
        "id": "TzlY5NgJl753",
        "outputId": "64979a37-0878-46f5-a74a-aee854a46a27"
      },
      "execution_count": 28,
      "outputs": [
        {
          "output_type": "stream",
          "name": "stdout",
          "text": [
            "<__main__.Node object at 0x7f984b7a99f0>\n",
            "1\n"
          ]
        }
      ]
    },
    {
      "cell_type": "code",
      "source": [
        "int(0x7cd226deebf0)"
      ],
      "metadata": {
        "colab": {
          "base_uri": "https://localhost:8080/"
        },
        "id": "O7TrbIsna0Fi",
        "outputId": "3ce9b3af-e2d9-48e2-f335-ebd55f7789da"
      },
      "execution_count": 29,
      "outputs": [
        {
          "output_type": "execute_result",
          "data": {
            "text/plain": [
              "137242037119984"
            ]
          },
          "metadata": {},
          "execution_count": 29
        }
      ]
    },
    {
      "cell_type": "code",
      "source": [
        "print(b.next)\n",
        "print(b.data)"
      ],
      "metadata": {
        "colab": {
          "base_uri": "https://localhost:8080/"
        },
        "id": "ytD96izzl9WA",
        "outputId": "b13a1546-c169-44e0-af2e-c70da30e7214"
      },
      "execution_count": 30,
      "outputs": [
        {
          "output_type": "stream",
          "name": "stdout",
          "text": [
            "<__main__.Node object at 0x7f984b7aa320>\n",
            "Pragya\n"
          ]
        }
      ]
    },
    {
      "cell_type": "code",
      "source": [
        "int(0x7cd226def430)"
      ],
      "metadata": {
        "colab": {
          "base_uri": "https://localhost:8080/"
        },
        "id": "UOwcDS9Fb3g5",
        "outputId": "4a82d383-c5a5-4d26-c6c7-9c4e1d5aa1a7"
      },
      "execution_count": 31,
      "outputs": [
        {
          "output_type": "execute_result",
          "data": {
            "text/plain": [
              "137242037122096"
            ]
          },
          "metadata": {},
          "execution_count": 31
        }
      ]
    },
    {
      "cell_type": "code",
      "source": [
        "print(c.next)\n",
        "print(c.data)"
      ],
      "metadata": {
        "colab": {
          "base_uri": "https://localhost:8080/"
        },
        "id": "5XokkkYCaZPB",
        "outputId": "ffe1f257-2e51-4c5d-cfaa-7b60a02ee0ca"
      },
      "execution_count": 32,
      "outputs": [
        {
          "output_type": "stream",
          "name": "stdout",
          "text": [
            "<__main__.Node object at 0x7f984b7aabf0>\n",
            "Loves\n"
          ]
        }
      ]
    },
    {
      "cell_type": "code",
      "source": [
        "int(0x7cd226deffa0)"
      ],
      "metadata": {
        "colab": {
          "base_uri": "https://localhost:8080/"
        },
        "id": "LYn9TOQKcHRq",
        "outputId": "a1b506df-f565-45f5-c6e3-36e97cd8a132"
      },
      "execution_count": 33,
      "outputs": [
        {
          "output_type": "execute_result",
          "data": {
            "text/plain": [
              "137242037125024"
            ]
          },
          "metadata": {},
          "execution_count": 33
        }
      ]
    },
    {
      "cell_type": "code",
      "source": [
        "print(d.next)\n",
        "print(d.data)"
      ],
      "metadata": {
        "colab": {
          "base_uri": "https://localhost:8080/"
        },
        "id": "ldTyCwmAabcM",
        "outputId": "ea53c849-40c8-4d5a-d591-bec490f256ef"
      },
      "execution_count": 34,
      "outputs": [
        {
          "output_type": "stream",
          "name": "stdout",
          "text": [
            "None\n",
            "Prateek\n"
          ]
        }
      ]
    },
    {
      "cell_type": "markdown",
      "source": [
        "**Here We will learn to do the things done above with the help of classes.**"
      ],
      "metadata": {
        "id": "egOszRmzcypK"
      }
    },
    {
      "cell_type": "code",
      "source": [
        "class Node:\n",
        "\n",
        "  def __init__(self, value):\n",
        "    self.data = value\n",
        "    self.next = None"
      ],
      "metadata": {
        "id": "_vSt4oEUc8QB"
      },
      "execution_count": 35,
      "outputs": []
    },
    {
      "cell_type": "code",
      "source": [
        "class LinkedList:\n",
        "\n",
        "  def __init__(self):\n",
        "\n",
        "    # Empty linked list: zero nodes: head = None\n",
        "    self.head = None\n",
        "    self.count = 0\n",
        "\n",
        "  def __len__(self):\n",
        "    return self.count\n",
        "\n",
        "  # Inserting a value at the start of the linked list\n",
        "  def insert_head(self, value):\n",
        "\n",
        "    # adding a new node\n",
        "    new_node = Node(value)\n",
        "\n",
        "    # connecting he new node with the linked list\n",
        "    new_node.next = self.head\n",
        "\n",
        "    # reassigning the position of head to the new node\n",
        "    self.head = new_node\n",
        "\n",
        "    # incrementing the length of nodes\n",
        "    self.count = self.count + 1\n",
        "\n",
        "  # Printing the liked list\n",
        "  def __str__(self):\n",
        "\n",
        "    curr = self.head\n",
        "\n",
        "    result = ''\n",
        "\n",
        "    while curr != None:\n",
        "\n",
        "      result = result + str(curr.data) + ' -> '\n",
        "      curr = curr.next\n",
        "\n",
        "    return result[:-3]\n",
        "\n",
        "  # Insertion at tail: appending the linked list\n",
        "  def append(self, value):\n",
        "\n",
        "    new_node = Node(value)\n",
        "\n",
        "    # if the linked list is EMPTY\n",
        "    if self.head == None:\n",
        "      self.head = new_node\n",
        "      self.count = self.count + 1\n",
        "      return\n",
        "\n",
        "    curr = self.head\n",
        "\n",
        "    while curr.next != None:\n",
        "      curr = curr.next\n",
        "\n",
        "    # at the last node\n",
        "    curr.next = new_node\n",
        "    self.count = self.count + 1\n",
        "\n",
        "  # Inserting after a certain value\n",
        "  def insert_after(self, after, value):\n",
        "\n",
        "    new_node = Node(value)\n",
        "\n",
        "    curr = self.head\n",
        "\n",
        "    while curr != None:\n",
        "\n",
        "      if curr.data == after:\n",
        "        break\n",
        "\n",
        "      curr = curr.next\n",
        "\n",
        "      # case 1: Break: We found the after node: curr -> not None\n",
        "    if curr != None:\n",
        "      new_node.next = curr.next\n",
        "      curr.next = new_node\n",
        "      curr = new_node\n",
        "      self.count = self.count + 1\n",
        "    else:\n",
        "      return \"After node not found!!!\"\n",
        "      # case 2: No break: Loop ran till end, after node not found: curr -> Nonee\n",
        "\n",
        "  # Deleting whole linked list values\n",
        "  def clear(self):\n",
        "    self.head = None\n",
        "    self.count = 0\n",
        "\n",
        "  # Deleting at head\n",
        "  def delete_head(self):\n",
        "\n",
        "    if self.head == None:\n",
        "      # Empty List\n",
        "      return 'Empty Linked List'\n",
        "    self.head = self.head.next\n",
        "    self.count = self.count - 1\n",
        "\n",
        "  # Deleting at tail\n",
        "  def pop(self):\n",
        "\n",
        "    if self.head == None:\n",
        "      # Empty List\n",
        "      return 'Empty Linked List'\n",
        "\n",
        "    curr = self.head\n",
        "\n",
        "    # if there is only one node in linked list\n",
        "    if curr.next == None:\n",
        "      #it is head\n",
        "      return self.delete_head()\n",
        "\n",
        "    while curr.next.next != None:\n",
        "      curr = curr.next\n",
        "\n",
        "    # We are at 2nd last node\n",
        "    curr.next = None\n",
        "    self.count = self.count - 1\n",
        "\n",
        "  # Removing a certain node\n",
        "  def remove(self, value):\n",
        "\n",
        "    if self.head == None:\n",
        "      # Empty List\n",
        "      return 'Empty Linked List'\n",
        "\n",
        "    if self.head.data == value:\n",
        "      # deleting Head node\n",
        "      return self.delete_head()\n",
        "\n",
        "    curr = self.head\n",
        "\n",
        "    while curr.next != None:\n",
        "      if curr.next.data == value:\n",
        "        break\n",
        "      curr = curr.next\n",
        "\n",
        "    # Value not found\n",
        "    if curr.next == None:\n",
        "      return 'Not Found'\n",
        "    else:\n",
        "      # Value Found\n",
        "      curr.next = curr.next.next\n",
        "      self.count = self.count - 1\n",
        "\n",
        "  # Searhing by Value\n",
        "  def search(self, value):\n",
        "\n",
        "    curr = self.head\n",
        "    pos = 0\n",
        "\n",
        "    while curr != None:\n",
        "      if curr.data == value:\n",
        "        return 'Found at index: ', pos\n",
        "      curr = curr.next\n",
        "      pos = pos + 1\n",
        "\n",
        "    return 'Not Found'\n",
        "\n",
        "  # Search by index\n",
        "  def __getitem__(self, index):\n",
        "\n",
        "    curr = self.head\n",
        "    pos = 0\n",
        "\n",
        "    while curr != None:\n",
        "      if pos == index:\n",
        "        return curr.data\n",
        "      curr = curr.next\n",
        "      pos = pos + 1\n",
        "\n",
        "    return 'Not Found'\n",
        "\n",
        "\n"
      ],
      "metadata": {
        "id": "2m2zgzoYdAiR"
      },
      "execution_count": 290,
      "outputs": []
    },
    {
      "cell_type": "code",
      "source": [
        "L = LinkedList()"
      ],
      "metadata": {
        "id": "pToEFEG3dZtU"
      },
      "execution_count": 291,
      "outputs": []
    },
    {
      "cell_type": "code",
      "source": [
        "print(L)"
      ],
      "metadata": {
        "colab": {
          "base_uri": "https://localhost:8080/"
        },
        "id": "v3NhKf0CdrLp",
        "outputId": "b67283ad-f1d8-4b5c-f0d8-4f9e55b01d92"
      },
      "execution_count": 292,
      "outputs": [
        {
          "output_type": "stream",
          "name": "stdout",
          "text": [
            "\n"
          ]
        }
      ]
    },
    {
      "cell_type": "code",
      "source": [
        "# Length of a linked list is the number of nodes in a linked list.\n",
        "len(L)"
      ],
      "metadata": {
        "colab": {
          "base_uri": "https://localhost:8080/"
        },
        "id": "T8M3iWdKdsQV",
        "outputId": "8769e1e3-b5b9-418a-b4c3-7c3712d0480d"
      },
      "execution_count": 293,
      "outputs": [
        {
          "output_type": "execute_result",
          "data": {
            "text/plain": [
              "0"
            ]
          },
          "metadata": {},
          "execution_count": 293
        }
      ]
    },
    {
      "cell_type": "markdown",
      "source": [
        "**Insertion of Data**\n",
        "\n",
        "**at Head**"
      ],
      "metadata": {
        "id": "JyafotQEgn_X"
      }
    },
    {
      "cell_type": "code",
      "source": [
        "L.insert_head(1)\n",
        "L.insert_head(2)\n",
        "L.insert_head(3)\n",
        "L.insert_head(4)\n",
        "L.insert_head(5)\n",
        "L.insert_head(6)\n",
        "L.insert_head(7)\n",
        "L.insert_head(8)\n",
        "L.insert_head(9)\n",
        "L.insert_head(10)"
      ],
      "metadata": {
        "id": "KWVO1h4teL6P"
      },
      "execution_count": 294,
      "outputs": []
    },
    {
      "cell_type": "markdown",
      "source": [
        "**Traversal and Printing the Linked List**"
      ],
      "metadata": {
        "id": "OkDQpc0ggt6_"
      }
    },
    {
      "cell_type": "code",
      "source": [
        "print(\"Linked list: \", L)\n",
        "print(\"Length: \", len(L))"
      ],
      "metadata": {
        "colab": {
          "base_uri": "https://localhost:8080/"
        },
        "id": "wNxoaP5wgeZ8",
        "outputId": "723f355b-0c8a-42df-a82a-96f374c511a5"
      },
      "execution_count": 295,
      "outputs": [
        {
          "output_type": "stream",
          "name": "stdout",
          "text": [
            "Linked list:  10 -> 9 -> 8 -> 7 -> 6 -> 5 -> 4 -> 3 -> 2 -> 1 \n",
            "Length:  10\n"
          ]
        }
      ]
    },
    {
      "cell_type": "markdown",
      "source": [
        "**Insertion of data from Tail of a Linked List**\n",
        "\n",
        "1. Create a new_node\n",
        "2. traverse to the tale node.\n",
        "3. set the next of the tail to new_node\n",
        "\n",
        "Traversal and stopping analogy in linked list:\n",
        "\n",
        "1. if you want to stop at end of a list use this condition in loop:\n",
        "  **curr != None**\n",
        "\n",
        "2. if you want to stop one node before the end use:\n",
        "  **curr.next != None**\n",
        "\n",
        "3. if you want to stop two nodes before the end use:\n",
        "  **curr.next.next != None**\n",
        "\n",
        "4. use the **similar analogy** to stop at any location before the end of the linked list."
      ],
      "metadata": {
        "id": "YgS2-2RCkFiS"
      }
    },
    {
      "cell_type": "code",
      "source": [
        "L.append(11)\n",
        "print(\"Linked list: \", L)\n",
        "print(\"Length: \", len(L))"
      ],
      "metadata": {
        "id": "Z_yB73cri5wZ",
        "colab": {
          "base_uri": "https://localhost:8080/"
        },
        "outputId": "ad68264e-fdfb-462e-b378-0956997f15c6"
      },
      "execution_count": 296,
      "outputs": [
        {
          "output_type": "stream",
          "name": "stdout",
          "text": [
            "Linked list:  10 -> 9 -> 8 -> 7 -> 6 -> 5 -> 4 -> 3 -> 2 -> 1 -> 11 \n",
            "Length:  11\n"
          ]
        }
      ]
    },
    {
      "cell_type": "markdown",
      "source": [
        "**Inserting a node after a node somewhere in the linked list**\n",
        "\n",
        "**inser_after**\n",
        "\n",
        "curr = after node\n",
        "\n",
        "Algorithm:\n",
        "\n",
        "1. traverse to after node\n",
        "2. new_node.next = curr.next\n",
        "3. curr.next = new_node\n",
        "\n",
        "\n",
        "**Flow**\n",
        "1. after node value will be given, after which you have to insert the new node.\n",
        "\n",
        "2. we will search to the after node value.\n",
        "\n",
        "3. we will then break the connection between the after node value and its successive node\n",
        "\n",
        "4. later next of new node will be connected to data of successive node\n",
        "\n",
        "5. we will attach the data of new node to next of after node"
      ],
      "metadata": {
        "id": "e5gny0RZoVww"
      }
    },
    {
      "cell_type": "code",
      "source": [
        "# experimenting case 2\n",
        "L.insert_after(1, 0)"
      ],
      "metadata": {
        "id": "Rrc460xzm0FL"
      },
      "execution_count": 297,
      "outputs": []
    },
    {
      "cell_type": "code",
      "source": [
        "print(L)"
      ],
      "metadata": {
        "id": "zX0ifr3dwcgL",
        "colab": {
          "base_uri": "https://localhost:8080/"
        },
        "outputId": "b191e809-f8fb-4bc4-9fb8-10b63a256ec6"
      },
      "execution_count": 298,
      "outputs": [
        {
          "output_type": "stream",
          "name": "stdout",
          "text": [
            "10 -> 9 -> 8 -> 7 -> 6 -> 5 -> 4 -> 3 -> 2 -> 1 -> 0 -> 11 \n"
          ]
        }
      ]
    },
    {
      "cell_type": "markdown",
      "source": [
        "**Cearing a Linked List**\n",
        "\n",
        "point the head node to none and put count = 0"
      ],
      "metadata": {
        "id": "ej46k8ab0-gn"
      }
    },
    {
      "cell_type": "code",
      "source": [
        "# L.clear()\n",
        "# print(L)"
      ],
      "metadata": {
        "id": "3UTGbrnqweAi"
      },
      "execution_count": 299,
      "outputs": []
    },
    {
      "cell_type": "markdown",
      "source": [
        "**Deleting/poping from head**\n",
        "\n",
        "Logic:\n",
        "\n",
        "Point the head node to te successive node.\n",
        "\n",
        "**head = head.next**"
      ],
      "metadata": {
        "id": "cbyruuJ8159G"
      }
    },
    {
      "cell_type": "code",
      "source": [
        "L.delete_head()\n",
        "print(\"Linked list: \", L)\n",
        "print(\"Length: \", len(L))"
      ],
      "metadata": {
        "colab": {
          "base_uri": "https://localhost:8080/"
        },
        "id": "XpqSnmfw1jCh",
        "outputId": "946fcc39-e878-42eb-9876-e916f4557293"
      },
      "execution_count": 300,
      "outputs": [
        {
          "output_type": "stream",
          "name": "stdout",
          "text": [
            "Linked list:  9 -> 8 -> 7 -> 6 -> 5 -> 4 -> 3 -> 2 -> 1 -> 0 -> 11 \n",
            "Length:  11\n"
          ]
        }
      ]
    },
    {
      "cell_type": "markdown",
      "source": [
        "**Deleting/poping from tail**\n",
        "\n",
        "Logic:\n",
        "Flow:\n",
        "1. Run a loop and stop at the second last item: **curr.next.next != None**\n",
        "\n",
        "2. Change the value of next to None: **curr.next = None**\n"
      ],
      "metadata": {
        "id": "JuD0-oUe2o7_"
      }
    },
    {
      "cell_type": "code",
      "source": [
        "L.pop()\n",
        "print(\"Linked list: \", L)\n",
        "print(\"Length: \", len(L))"
      ],
      "metadata": {
        "colab": {
          "base_uri": "https://localhost:8080/"
        },
        "id": "Qe3dPwJP1ka2",
        "outputId": "b9e882fe-e15b-458a-fda7-f4ebf0391ba8"
      },
      "execution_count": 301,
      "outputs": [
        {
          "output_type": "stream",
          "name": "stdout",
          "text": [
            "Linked list:  9 -> 8 -> 7 -> 6 -> 5 -> 4 -> 3 -> 2 -> 1 -> 0 \n",
            "Length:  10\n"
          ]
        }
      ]
    },
    {
      "cell_type": "markdown",
      "source": [
        "**Deletion by value**\n",
        "\n",
        "Flow:\n",
        "1. Traverse to predecessor node of value provided: **curr.next != None**\n",
        "2. Point the next node of predecessor to the successor node of provided value: **curr.next = curr.next.next**"
      ],
      "metadata": {
        "id": "d1JSONaC6HB_"
      }
    },
    {
      "cell_type": "code",
      "source": [
        "# deleting head\n",
        "L.remove(9)\n",
        "print(\"Linked list: \", L)\n",
        "print(\"Length: \", len(L))"
      ],
      "metadata": {
        "colab": {
          "base_uri": "https://localhost:8080/"
        },
        "id": "nitZpEVl47k_",
        "outputId": "7790c5b6-9a2f-45b9-83b4-e215619735d9"
      },
      "execution_count": 302,
      "outputs": [
        {
          "output_type": "stream",
          "name": "stdout",
          "text": [
            "Linked list:  8 -> 7 -> 6 -> 5 -> 4 -> 3 -> 2 -> 1 -> 0 \n",
            "Length:  9\n"
          ]
        }
      ]
    },
    {
      "cell_type": "code",
      "source": [
        "# deleting tail\n",
        "L.remove(0)\n",
        "print(\"Linked list: \", L)\n",
        "print(\"Length: \", len(L))"
      ],
      "metadata": {
        "colab": {
          "base_uri": "https://localhost:8080/"
        },
        "id": "UYGucaMq9v7q",
        "outputId": "beaa76ce-d1fe-4aed-a434-cf9c16087203"
      },
      "execution_count": 303,
      "outputs": [
        {
          "output_type": "stream",
          "name": "stdout",
          "text": [
            "Linked list:  8 -> 7 -> 6 -> 5 -> 4 -> 3 -> 2 -> 1 \n",
            "Length:  8\n"
          ]
        }
      ]
    },
    {
      "cell_type": "code",
      "source": [
        "# deleting any value\n",
        "L.remove(8)\n",
        "print(\"Linked list: \", L)\n",
        "print(\"Length: \", len(L))"
      ],
      "metadata": {
        "colab": {
          "base_uri": "https://localhost:8080/"
        },
        "id": "i8c-zasw-HtJ",
        "outputId": "f18dcc07-458f-415c-c663-7a32ada8159e"
      },
      "execution_count": 304,
      "outputs": [
        {
          "output_type": "stream",
          "name": "stdout",
          "text": [
            "Linked list:  7 -> 6 -> 5 -> 4 -> 3 -> 2 -> 1 \n",
            "Length:  7\n"
          ]
        }
      ]
    },
    {
      "cell_type": "markdown",
      "source": [
        "**Searching in a Linked List**\n",
        "\n",
        "Searching by value.\n",
        "\n",
        "Traverse the linked list\n",
        "and match: **curr.data == value**"
      ],
      "metadata": {
        "id": "wqsXleYz-9Mz"
      }
    },
    {
      "cell_type": "code",
      "source": [
        "L.search(6)"
      ],
      "metadata": {
        "colab": {
          "base_uri": "https://localhost:8080/"
        },
        "id": "NYe6Cn4z-PN9",
        "outputId": "0dba8904-5803-4075-f058-a8d455dc6627"
      },
      "execution_count": 306,
      "outputs": [
        {
          "output_type": "execute_result",
          "data": {
            "text/plain": [
              "('Found at index: ', 1)"
            ]
          },
          "metadata": {},
          "execution_count": 306
        }
      ]
    },
    {
      "cell_type": "markdown",
      "source": [
        "**Searching by index**\n",
        "\n"
      ],
      "metadata": {
        "id": "j4kBNTluCpVi"
      }
    },
    {
      "cell_type": "code",
      "source": [
        "L[2] # L[2] = 5"
      ],
      "metadata": {
        "colab": {
          "base_uri": "https://localhost:8080/"
        },
        "id": "MbPd0z2fAcEf",
        "outputId": "397b21c1-b3c2-4591-afcf-e806b42c3ed7"
      },
      "execution_count": 309,
      "outputs": [
        {
          "output_type": "execute_result",
          "data": {
            "text/plain": [
              "5"
            ]
          },
          "metadata": {},
          "execution_count": 309
        }
      ]
    },
    {
      "cell_type": "code",
      "source": [],
      "metadata": {
        "id": "xaK7mBI-C4Ko"
      },
      "execution_count": null,
      "outputs": []
    }
  ]
}