{
  "nbformat": 4,
  "nbformat_minor": 0,
  "metadata": {
    "colab": {
      "provenance": [],
      "authorship_tag": "ABX9TyNk0TnE4aJSliR+XmUg4dB5",
      "include_colab_link": true
    },
    "kernelspec": {
      "name": "python3",
      "display_name": "Python 3"
    },
    "language_info": {
      "name": "python"
    }
  },
  "cells": [
    {
      "cell_type": "markdown",
      "metadata": {
        "id": "view-in-github",
        "colab_type": "text"
      },
      "source": [
        "<a href=\"https://colab.research.google.com/github/er-prateek-tripathi/Python/blob/master/DSA/Queue/Queue_LL_Implementation.ipynb\" target=\"_parent\"><img src=\"https://colab.research.google.com/assets/colab-badge.svg\" alt=\"Open In Colab\"/></a>"
      ]
    },
    {
      "cell_type": "markdown",
      "source": [
        "**Queues**\n",
        "\n",
        "First In, First Out\n",
        "\n",
        "Head = Front\n",
        "\n",
        "Tail = Rear\n",
        "\n",
        "Insertion at Rear, enqueue\n",
        "\n",
        "Deletion at Front, dequeue"
      ],
      "metadata": {
        "id": "gc-u89L4xgEJ"
      }
    },
    {
      "cell_type": "code",
      "source": [
        "class Node:\n",
        "\n",
        "  def __init__(self, value):\n",
        "    self.data = value\n",
        "    self.next = None"
      ],
      "metadata": {
        "id": "J3xzxcPDx7uL"
      },
      "execution_count": 34,
      "outputs": []
    },
    {
      "cell_type": "code",
      "source": [
        "class Queue:\n",
        "\n",
        "  def __init__(self):\n",
        "    self.front = None\n",
        "    self.rear = None\n",
        "\n",
        "  def enqueue(self, value):\n",
        "\n",
        "    new_node = Node(value)\n",
        "\n",
        "    if self.rear == None:\n",
        "      self.front = new_node\n",
        "      self.rear = self.front\n",
        "    else:\n",
        "      self.rear.next = new_node\n",
        "      self.rear = new_node\n",
        "\n",
        "  def dequeue(self):\n",
        "\n",
        "    if self.front == None:\n",
        "      return \"Empty\"\n",
        "    else:\n",
        "      print(self.front.data)\n",
        "      self.front = self.front.next\n",
        "\n",
        "  def isEmpty(self):\n",
        "    return self.front == None\n",
        "\n",
        "  def size(self):\n",
        "    temp = self.front\n",
        "    n = 0\n",
        "\n",
        "    while temp != None:\n",
        "      n += 1\n",
        "      temp = temp.next\n",
        "\n",
        "    return n\n",
        "\n",
        "  def peek_front(self):\n",
        "    if self.front == None:\n",
        "      return \"Empty\"\n",
        "    else:\n",
        "      return self.front.data\n",
        "\n",
        "  def peek_rear(self):\n",
        "    if self.rear == None:\n",
        "      return \"Empty\"\n",
        "    else:\n",
        "      return self.rear.data\n",
        "\n",
        "  def traverse(self):\n",
        "\n",
        "    temp = self.front\n",
        "\n",
        "    while temp != None:\n",
        "      print(temp.data, end = \" \")\n",
        "      temp = temp.next\n"
      ],
      "metadata": {
        "id": "EzH9F3rv0Hdh"
      },
      "execution_count": 35,
      "outputs": []
    },
    {
      "cell_type": "code",
      "source": [
        "q = Queue()"
      ],
      "metadata": {
        "id": "UUnr1vDV1jC1"
      },
      "execution_count": 36,
      "outputs": []
    },
    {
      "cell_type": "code",
      "source": [
        "q.enqueue(1)\n",
        "q.enqueue(2)\n",
        "q.enqueue(3)\n",
        "q.enqueue(4)\n",
        "q.enqueue(5)\n",
        "q.enqueue(6)\n",
        "q.enqueue(7)\n",
        "q.enqueue(8)\n",
        "q.enqueue(9)\n",
        "q.enqueue(10)"
      ],
      "metadata": {
        "id": "7YSHW9Hp1lzf"
      },
      "execution_count": 37,
      "outputs": []
    },
    {
      "cell_type": "code",
      "source": [
        "q.traverse()"
      ],
      "metadata": {
        "colab": {
          "base_uri": "https://localhost:8080/"
        },
        "id": "EkyiFDnU1tgJ",
        "outputId": "bcbef96c-12a1-4ecf-b1b1-a79aa0b21cc5"
      },
      "execution_count": 38,
      "outputs": [
        {
          "output_type": "stream",
          "name": "stdout",
          "text": [
            "1 2 3 4 5 6 7 8 9 10 "
          ]
        }
      ]
    },
    {
      "cell_type": "code",
      "source": [
        "q.dequeue()"
      ],
      "metadata": {
        "colab": {
          "base_uri": "https://localhost:8080/"
        },
        "id": "wwGc-gJH1vpt",
        "outputId": "3b9fdf1b-c692-4c9f-c600-016fbfb6cc07"
      },
      "execution_count": 39,
      "outputs": [
        {
          "output_type": "stream",
          "name": "stdout",
          "text": [
            "1\n"
          ]
        }
      ]
    },
    {
      "cell_type": "code",
      "source": [
        "q.traverse()"
      ],
      "metadata": {
        "colab": {
          "base_uri": "https://localhost:8080/"
        },
        "id": "u5prtGRN1ysj",
        "outputId": "2dc7f705-6a3f-4826-a37c-b59cfbc9d9c6"
      },
      "execution_count": 40,
      "outputs": [
        {
          "output_type": "stream",
          "name": "stdout",
          "text": [
            "2 3 4 5 6 7 8 9 10 "
          ]
        }
      ]
    },
    {
      "cell_type": "code",
      "source": [
        "q.peek_front()"
      ],
      "metadata": {
        "colab": {
          "base_uri": "https://localhost:8080/"
        },
        "id": "mUdH4jed11LU",
        "outputId": "d89453e3-bad4-401f-943e-e2eb47ef7e03"
      },
      "execution_count": 41,
      "outputs": [
        {
          "output_type": "execute_result",
          "data": {
            "text/plain": [
              "2"
            ]
          },
          "metadata": {},
          "execution_count": 41
        }
      ]
    },
    {
      "cell_type": "code",
      "source": [
        "q.peek_rear()"
      ],
      "metadata": {
        "colab": {
          "base_uri": "https://localhost:8080/"
        },
        "id": "i7nUsxZe3ajx",
        "outputId": "d787823b-1c00-4a5c-a820-5e9e4bd3755b"
      },
      "execution_count": 42,
      "outputs": [
        {
          "output_type": "execute_result",
          "data": {
            "text/plain": [
              "10"
            ]
          },
          "metadata": {},
          "execution_count": 42
        }
      ]
    },
    {
      "cell_type": "code",
      "source": [
        "q.size()"
      ],
      "metadata": {
        "colab": {
          "base_uri": "https://localhost:8080/"
        },
        "id": "U5jjNsO83eM8",
        "outputId": "690cdec4-9922-4c37-805a-0de8705a4ccd"
      },
      "execution_count": 43,
      "outputs": [
        {
          "output_type": "execute_result",
          "data": {
            "text/plain": [
              "9"
            ]
          },
          "metadata": {},
          "execution_count": 43
        }
      ]
    },
    {
      "cell_type": "code",
      "source": [
        "q.isEmpty()"
      ],
      "metadata": {
        "colab": {
          "base_uri": "https://localhost:8080/"
        },
        "id": "_mexQ-gh3g2E",
        "outputId": "b4db90d2-683f-4d2c-b9ce-3fd23a8cf518"
      },
      "execution_count": 44,
      "outputs": [
        {
          "output_type": "execute_result",
          "data": {
            "text/plain": [
              "False"
            ]
          },
          "metadata": {},
          "execution_count": 44
        }
      ]
    },
    {
      "cell_type": "code",
      "source": [],
      "metadata": {
        "id": "PslnWwXN3lMz"
      },
      "execution_count": null,
      "outputs": []
    }
  ]
}