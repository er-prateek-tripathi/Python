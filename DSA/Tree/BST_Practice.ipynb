{
  "nbformat": 4,
  "nbformat_minor": 0,
  "metadata": {
    "colab": {
      "provenance": [],
      "authorship_tag": "ABX9TyMmcP7C1xcv7ZClYjyE91yc",
      "include_colab_link": true
    },
    "kernelspec": {
      "name": "python3",
      "display_name": "Python 3"
    },
    "language_info": {
      "name": "python"
    }
  },
  "cells": [
    {
      "cell_type": "markdown",
      "metadata": {
        "id": "view-in-github",
        "colab_type": "text"
      },
      "source": [
        "<a href=\"https://colab.research.google.com/github/er-prateek-tripathi/Python/blob/master/DSA/Tree/BST_Practice.ipynb\" target=\"_parent\"><img src=\"https://colab.research.google.com/assets/colab-badge.svg\" alt=\"Open In Colab\"/></a>"
      ]
    },
    {
      "cell_type": "markdown",
      "source": [
        "Max No. of nodes in a BST: 2^height - 1\n",
        "\n",
        "max no. of nodes at level i: 2^i\n",
        "\n",
        "height of BST: log(nodes + 1) - 1\n",
        "\n",
        "Cost of various operations on BST depends on its height.\n"
      ],
      "metadata": {
        "id": "kd973yBlIzBf"
      }
    },
    {
      "cell_type": "code",
      "execution_count": 1,
      "metadata": {
        "id": "g_T2Ys1Vl1Mu"
      },
      "outputs": [],
      "source": [
        "class BinarySearchTreeNode:\n",
        "    def __init__(self, data):\n",
        "        self.data = data\n",
        "        self.left = None\n",
        "        self.right = None\n",
        "\n",
        "    def add_child(self, data):\n",
        "        if data == self.data:\n",
        "            return # node already exist\n",
        "\n",
        "        if data < self.data:\n",
        "            if self.left: # if left is a subtree, so adding data to subtree\n",
        "                self.left.add_child(data)\n",
        "            else:\n",
        "                self.left = BinarySearchTreeNode(data)\n",
        "        else:\n",
        "            if self.right:\n",
        "                self.right.add_child(data)\n",
        "            else:\n",
        "                self.right = BinarySearchTreeNode(data)\n",
        "\n",
        "\n",
        "    def search(self, val):\n",
        "        if self.data == val:\n",
        "            return True\n",
        "\n",
        "        if val < self.data:\n",
        "            if self.left:\n",
        "                return self.left.search(val)\n",
        "            else:\n",
        "                return False\n",
        "\n",
        "        if val > self.data:\n",
        "            if self.right:\n",
        "                return self.right.search(val)\n",
        "            else:\n",
        "                return False\n",
        "\n",
        "    # For traversal, we travel recursively till the leaf node of the sub\n",
        "\n",
        "    def in_order_traversal(self):\n",
        "        elements = []\n",
        "\n",
        "        # left subtree\n",
        "        if self.left:\n",
        "            elements += self.left.in_order_traversal()\n",
        "\n",
        "        # root node\n",
        "        elements.append(self.data)\n",
        "\n",
        "        # right sub tree\n",
        "        if self.right:\n",
        "            elements += self.right.in_order_traversal()\n",
        "\n",
        "        return elements\n",
        "\n",
        "    def post_order_traversal(self):\n",
        "        elements = []\n",
        "\n",
        "        # left sub tree\n",
        "        if self.left:\n",
        "            elements += self.left.post_order_traversal()\n",
        "\n",
        "        # right sub tree\n",
        "        if self.right:\n",
        "            elements += self.right.post_order_traversal()\n",
        "\n",
        "        # root node\n",
        "        elements.append(self.data)\n",
        "\n",
        "        return elements\n",
        "\n",
        "    def pre_order_traversal(self):\n",
        "\n",
        "        # root node\n",
        "        elements = [self.data]\n",
        "\n",
        "        # left sub tree\n",
        "        if self.left:\n",
        "            elements += self.left.pre_order_traversal()\n",
        "\n",
        "        # right sub tree\n",
        "        if self.right:\n",
        "            elements += self.right.pre_order_traversal()\n",
        "\n",
        "        return elements\n",
        "\n",
        "    def find_max(self):\n",
        "        if self.right is None:\n",
        "            return self.data\n",
        "        return self.right.find_max()\n",
        "\n",
        "    def find_min(self):\n",
        "        if self.left is None:\n",
        "            return self.data\n",
        "        return self.left.find_min()\n",
        "\n",
        "    def calculate_sum(self):\n",
        "        left_sum = self.left.calculate_sum() if self.left else 0\n",
        "        right_sum = self.right.calculate_sum() if self.right else 0\n",
        "        return self.data + left_sum + right_sum\n"
      ]
    },
    {
      "cell_type": "code",
      "source": [
        "def build_tree(elements):\n",
        "    root = BinarySearchTreeNode(elements[0])\n",
        "\n",
        "    for i in range(1,len(elements)):\n",
        "        root.add_child(elements[i])\n",
        "\n",
        "    return root"
      ],
      "metadata": {
        "id": "9Lq71TvvwCA3"
      },
      "execution_count": 2,
      "outputs": []
    },
    {
      "cell_type": "code",
      "source": [
        "if __name__ == '__main__':\n",
        "    numbers = [17, 4, 1, 20, 9, 23, 18, 34]\n",
        "\n",
        "    numbers = [15,12,7,14,27,20,23,88 ]\n",
        "\n",
        "    numbers_tree = build_tree(numbers)"
      ],
      "metadata": {
        "id": "OMml7KU8wFa-"
      },
      "execution_count": 3,
      "outputs": []
    },
    {
      "cell_type": "code",
      "source": [
        "print(\"Input numbers:\",numbers)\n",
        "print(\"Min:\",numbers_tree.find_min())\n",
        "print(\"Max:\",numbers_tree.find_max())\n",
        "print(\"Sum:\", numbers_tree.calculate_sum())\n",
        "print(\"In order traversal:\", numbers_tree.in_order_traversal())\n",
        "print(\"Pre order traversal:\", numbers_tree.pre_order_traversal())\n",
        "print(\"Post order traversal:\", numbers_tree.post_order_traversal())"
      ],
      "metadata": {
        "colab": {
          "base_uri": "https://localhost:8080/"
        },
        "id": "snkgIFmYwKA1",
        "outputId": "c8de7dd6-ae39-4617-edc8-45bf3d5d83c9"
      },
      "execution_count": 5,
      "outputs": [
        {
          "output_type": "stream",
          "name": "stdout",
          "text": [
            "Input numbers: [15, 12, 7, 14, 27, 20, 23, 88]\n",
            "Min: 7\n",
            "Max: 88\n",
            "Sum: 206\n",
            "In order traversal: [7, 12, 14, 15, 20, 23, 27, 88]\n",
            "Pre order traversal: [15, 12, 7, 14, 27, 20, 23, 88]\n",
            "Post order traversal: [7, 14, 12, 23, 20, 88, 27, 15]\n"
          ]
        }
      ]
    },
    {
      "cell_type": "code",
      "source": [],
      "metadata": {
        "id": "OLIJbVFfwYAP"
      },
      "execution_count": null,
      "outputs": []
    }
  ]
}