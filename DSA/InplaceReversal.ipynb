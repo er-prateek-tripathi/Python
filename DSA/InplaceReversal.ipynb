{
  "nbformat": 4,
  "nbformat_minor": 0,
  "metadata": {
    "colab": {
      "provenance": [],
      "authorship_tag": "ABX9TyMiFErFUajI6O/2kC2TBxDM",
      "include_colab_link": true
    },
    "kernelspec": {
      "name": "python3",
      "display_name": "Python 3"
    },
    "language_info": {
      "name": "python"
    }
  },
  "cells": [
    {
      "cell_type": "markdown",
      "metadata": {
        "id": "view-in-github",
        "colab_type": "text"
      },
      "source": [
        "<a href=\"https://colab.research.google.com/github/er-prateek-tripathi/Python/blob/master/DSA/InplaceReversal.ipynb\" target=\"_parent\"><img src=\"https://colab.research.google.com/assets/colab-badge.svg\" alt=\"Open In Colab\"/></a>"
      ]
    },
    {
      "cell_type": "markdown",
      "source": [
        "Write a python program to reverse a linked list containing integer data.\n",
        "\n",
        "**Input**:\n",
        "(Head)2 -> 4 -> 6 -> 8 -> None\n",
        "\n",
        "**Output**: None <- 2 <- 4 <- 6 <- 8(Head)\n",
        "\n",
        "Creation of a new Linked list is not allowed.\n",
        "\n",
        "Use Inplace reversal.\n",
        "\n",
        "**Trick**:\n",
        "While doing inplace reversal, store the address of next node in a variable ad then break the link to the next node and later reverse it.\n",
        "\n",
        "With this, the next node's address will always be in check.\n",
        "\n"
      ],
      "metadata": {
        "id": "hXyNbBwebgrc"
      }
    },
    {
      "cell_type": "code",
      "source": [
        "class Node:\n",
        "\n",
        "  def __init__(self, value):\n",
        "    self.data = value\n",
        "    self.next = None"
      ],
      "metadata": {
        "id": "zPLhQIsuY18X"
      },
      "execution_count": 4,
      "outputs": []
    },
    {
      "cell_type": "code",
      "source": [
        "class LinkedList:\n",
        "\n",
        "  def __init__(self):\n",
        "\n",
        "    # Empty linked list: zero nodes: head = None\n",
        "    self.head = None\n",
        "    self.count = 0\n",
        "\n",
        "  def __len__(self):\n",
        "    return self.count\n",
        "\n",
        "  # Inserting a value at the start of the linked list\n",
        "  def insert_head(self, value):\n",
        "\n",
        "    # adding a new node\n",
        "    new_node = Node(value)\n",
        "\n",
        "    # connecting he new node with the linked list\n",
        "    new_node.next = self.head\n",
        "\n",
        "    # reassigning the position of head to the new node\n",
        "    self.head = new_node\n",
        "\n",
        "    # incrementing the length of nodes\n",
        "    self.count = self.count + 1\n",
        "\n",
        "  # Printing the linked list\n",
        "  def __str__(self):\n",
        "\n",
        "    curr = self.head\n",
        "\n",
        "    result = ''\n",
        "\n",
        "    while curr != None:\n",
        "\n",
        "      result = result + str(curr.data) + ' -> '\n",
        "      curr = curr.next\n",
        "\n",
        "    return result[:-3]\n",
        "\n",
        "  # Insertion at tail: appending the linked list\n",
        "  def append(self, value):\n",
        "\n",
        "    new_node = Node(value)\n",
        "\n",
        "    # if the linked list is EMPTY\n",
        "    if self.head == None:\n",
        "      self.head = new_node\n",
        "      self.count = self.count + 1\n",
        "      return\n",
        "\n",
        "    curr = self.head\n",
        "\n",
        "    while curr.next != None:\n",
        "      curr = curr.next\n",
        "\n",
        "    # at the last node\n",
        "    curr.next = new_node\n",
        "    self.count = self.count + 1\n",
        "\n",
        "  # Inserting after a certain value\n",
        "  def insert_after(self, after, value):\n",
        "\n",
        "    new_node = Node(value)\n",
        "\n",
        "    curr = self.head\n",
        "\n",
        "    while curr != None:\n",
        "\n",
        "      if curr.data == after:\n",
        "        break\n",
        "\n",
        "      curr = curr.next\n",
        "\n",
        "      # case 1: Break: We found the after node: curr -> not None\n",
        "    if curr != None:\n",
        "      new_node.next = curr.next\n",
        "      curr.next = new_node\n",
        "      curr = new_node\n",
        "      self.count = self.count + 1\n",
        "    else:\n",
        "      return \"After node not found!!!\"\n",
        "      # case 2: No break: Loop ran till end, after node not found: curr -> Nonee\n",
        "\n",
        "  # Deleting whole linked list values\n",
        "  def clear(self):\n",
        "    self.head = None\n",
        "    self.count = 0\n",
        "\n",
        "  # Deleting at head\n",
        "  def delete_head(self):\n",
        "\n",
        "    if self.head == None:\n",
        "      # Empty List\n",
        "      return 'Empty Linked List'\n",
        "    self.head = self.head.next\n",
        "    self.count = self.count - 1\n",
        "\n",
        "  # Deleting at tail\n",
        "  def pop(self):\n",
        "\n",
        "    if self.head == None:\n",
        "      # Empty List\n",
        "      return 'Empty Linked List'\n",
        "\n",
        "    curr = self.head\n",
        "\n",
        "    # if there is only one node in linked list\n",
        "    if curr.next == None:\n",
        "      #it is head\n",
        "      return self.delete_head()\n",
        "\n",
        "    while curr.next.next != None:\n",
        "      curr = curr.next\n",
        "\n",
        "    # We are at 2nd last node\n",
        "    curr.next = None\n",
        "    self.count = self.count - 1\n",
        "\n",
        "  # Removing a certain node\n",
        "  def remove(self, value):\n",
        "\n",
        "    if self.head == None:\n",
        "      # Empty List\n",
        "      return 'Empty Linked List'\n",
        "\n",
        "    if self.head.data == value:\n",
        "      # deleting Head node\n",
        "      return self.delete_head()\n",
        "\n",
        "    curr = self.head\n",
        "\n",
        "    while curr.next != None:\n",
        "      if curr.next.data == value:\n",
        "        break\n",
        "      curr = curr.next\n",
        "\n",
        "    # Value not found\n",
        "    if curr.next == None:\n",
        "      return 'Not Found'\n",
        "    else:\n",
        "      # Value Found\n",
        "      curr.next = curr.next.next\n",
        "      self.count = self.count - 1\n",
        "\n",
        "  # Searhing by Value\n",
        "  def search(self, value):\n",
        "\n",
        "    curr = self.head\n",
        "    pos = 0\n",
        "\n",
        "    while curr != None:\n",
        "      if curr.data == value:\n",
        "        return 'Found at index: ', pos\n",
        "      curr = curr.next\n",
        "      pos = pos + 1\n",
        "\n",
        "    return 'Not Found'\n",
        "\n",
        "  # Search by index\n",
        "  def __getitem__(self, index):\n",
        "\n",
        "    curr = self.head\n",
        "    pos = 0\n",
        "\n",
        "    while curr != None:\n",
        "      if pos == index:\n",
        "        return curr.data\n",
        "      curr = curr.next\n",
        "      pos = pos + 1\n",
        "\n",
        "    return 'Not Found'\n",
        "\n",
        "  def replace_max(self, value):\n",
        "\n",
        "    temp = self.head\n",
        "    max = temp\n",
        "\n",
        "    while temp != None:\n",
        "      if temp.data > max.data:\n",
        "        max = temp\n",
        "      temp = temp.next\n",
        "\n",
        "    max.data = value\n",
        "\n",
        "  def OddPosSum(self):\n",
        "\n",
        "    temp = self.head\n",
        "    pos = 0\n",
        "    result = 0\n",
        "\n",
        "    while temp != None:\n",
        "      if pos % 2 != 0:\n",
        "        print(\"Index: \",pos, \"Data: \",temp.data)\n",
        "        result = result + temp.data\n",
        "\n",
        "      pos += 1\n",
        "      temp = temp.next\n",
        "\n",
        "    return \"sum = \", result\n",
        "\n",
        "  def Reverse(self):\n",
        "\n",
        "    prev_node = None # Previos node\n",
        "    curr_node = self.head\n",
        "\n",
        "    while curr_node != None:\n",
        "      next_node = curr_node.next # saving the address of next node\n",
        "      curr_node.next = prev_node\n",
        "      # reversing the link from prev_node -> curr_node\n",
        "      # to prev_node <- curr_node, next_node stores address of successive node.\n",
        "      prev_node = curr_node # moving forward to reverse another node\n",
        "      curr_node = next_node\n",
        "\n",
        "    self.head = prev_node\n",
        "\n",
        "\n",
        "\n",
        "\n"
      ],
      "metadata": {
        "id": "G8bQew12Y9-6"
      },
      "execution_count": 5,
      "outputs": []
    },
    {
      "cell_type": "code",
      "source": [
        "L = LinkedList()"
      ],
      "metadata": {
        "id": "acbJwLsXZQ26"
      },
      "execution_count": 6,
      "outputs": []
    },
    {
      "cell_type": "code",
      "source": [
        "L.insert_head(1)\n",
        "L.insert_head(8)\n",
        "L.insert_head(2)\n",
        "L.insert_head(9)\n",
        "L.insert_head(3)\n",
        "L.insert_head(7)\n",
        "L.insert_head(4)\n",
        "L.insert_head(10)\n",
        "L.insert_head(5)\n",
        "L.insert_head(6)"
      ],
      "metadata": {
        "id": "-h23zSRGZQ6f"
      },
      "execution_count": 7,
      "outputs": []
    },
    {
      "cell_type": "code",
      "source": [
        "print(\"Linked list: \", L)\n",
        "print(\"Length: \", len(L))"
      ],
      "metadata": {
        "colab": {
          "base_uri": "https://localhost:8080/"
        },
        "id": "gpsJ8DR9ZYds",
        "outputId": "ccd254cb-b02a-4e28-ccef-680301b6b054"
      },
      "execution_count": 8,
      "outputs": [
        {
          "output_type": "stream",
          "name": "stdout",
          "text": [
            "Linked list:  6 -> 5 -> 10 -> 4 -> 7 -> 3 -> 9 -> 2 -> 8 -> 1 \n",
            "Length:  10\n"
          ]
        }
      ]
    },
    {
      "cell_type": "code",
      "source": [
        "L.Reverse()"
      ],
      "metadata": {
        "id": "_WAk7AdMk9ov"
      },
      "execution_count": 9,
      "outputs": []
    },
    {
      "cell_type": "code",
      "source": [
        "print(\"Linked list: \", L)\n",
        "print(\"Length: \", len(L))"
      ],
      "metadata": {
        "colab": {
          "base_uri": "https://localhost:8080/"
        },
        "id": "4k50VM_nlDRB",
        "outputId": "07314620-6c0a-456f-e31d-2a6decdf7eac"
      },
      "execution_count": 10,
      "outputs": [
        {
          "output_type": "stream",
          "name": "stdout",
          "text": [
            "Linked list:  1 -> 8 -> 2 -> 9 -> 3 -> 7 -> 4 -> 10 -> 5 -> 6 \n",
            "Length:  10\n"
          ]
        }
      ]
    },
    {
      "cell_type": "code",
      "source": [],
      "metadata": {
        "id": "s7bmaxIdlIc3"
      },
      "execution_count": null,
      "outputs": []
    }
  ]
}