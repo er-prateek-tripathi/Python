{
  "nbformat": 4,
  "nbformat_minor": 0,
  "metadata": {
    "colab": {
      "provenance": [],
      "authorship_tag": "ABX9TyMko4T3jepwFHf5yZdAbS8i",
      "include_colab_link": true
    },
    "kernelspec": {
      "name": "python3",
      "display_name": "Python 3"
    },
    "language_info": {
      "name": "python"
    }
  },
  "cells": [
    {
      "cell_type": "markdown",
      "metadata": {
        "id": "view-in-github",
        "colab_type": "text"
      },
      "source": [
        "<a href=\"https://colab.research.google.com/github/er-prateek-tripathi/Python/blob/master/SQL/Python_SQL.ipynb\" target=\"_parent\"><img src=\"https://colab.research.google.com/assets/colab-badge.svg\" alt=\"Open In Colab\"/></a>"
      ]
    },
    {
      "cell_type": "code",
      "execution_count": 4,
      "metadata": {
        "colab": {
          "base_uri": "https://localhost:8080/"
        },
        "id": "w5pEm8Kpa-y6",
        "outputId": "d704d86f-11eb-4eec-9293-cb01b3aa5544"
      },
      "outputs": [
        {
          "output_type": "stream",
          "name": "stdout",
          "text": [
            "Collecting mysql.connector\n",
            "  Downloading mysql-connector-2.2.9.tar.gz (11.9 MB)\n",
            "\u001b[2K     \u001b[90m━━━━━━━━━━━━━━━━━━━━━━━━━━━━━━━━━━━━━━━━\u001b[0m \u001b[32m11.9/11.9 MB\u001b[0m \u001b[31m22.9 MB/s\u001b[0m eta \u001b[36m0:00:00\u001b[0m\n",
            "\u001b[?25h  Preparing metadata (setup.py) ... \u001b[?25l\u001b[?25hdone\n",
            "Building wheels for collected packages: mysql.connector\n",
            "  Building wheel for mysql.connector (setup.py) ... \u001b[?25l\u001b[?25hdone\n",
            "  Created wheel for mysql.connector: filename=mysql_connector-2.2.9-cp310-cp310-linux_x86_64.whl size=247951 sha256=217e5f78dfe8e409922f0c0de63e915f7cef419486dc5098931865ae803d3a5d\n",
            "  Stored in directory: /root/.cache/pip/wheels/76/48/9b/da67ff1a18fe8e9d428f9b1a177716d4a7d363d2bbe83bf6cf\n",
            "Successfully built mysql.connector\n",
            "Installing collected packages: mysql.connector\n",
            "Successfully installed mysql.connector-2.2.9\n"
          ]
        }
      ],
      "source": [
        "!pip install mysql.connector\n",
        "import mysql.connector"
      ]
    },
    {
      "cell_type": "code",
      "source": [
        "from mysql.connector import Error\n",
        "import pandas as pd\n"
      ],
      "metadata": {
        "id": "V_PARooObMfx"
      },
      "execution_count": 5,
      "outputs": []
    },
    {
      "cell_type": "code",
      "source": [
        "def create_server_connection(host_name, user_name, user_password):\n",
        "    connection = None\n",
        "    try:\n",
        "        connection = mysql.connector.connect(\n",
        "            host = host_name,\n",
        "            user = user_name,\n",
        "            password = user_password)\n",
        "        print(\"Connceted!!\")\n",
        "\n",
        "    except Error as err:\n",
        "        print(f\"Error: '{err}'\")\n",
        "\n",
        "    finally:\n",
        "        return connection\n",
        "\n",
        "\n",
        "\n",
        "# password = mysql password\n",
        "\n",
        "pswd = \"hey!iamhere1A\"\n",
        "\n",
        "# Database Name\n",
        "\n",
        "db = 'mysql_python'\n",
        "\n",
        "connection = create_server_connection(\"127.0.0.1\", \"root\", pswd)\n"
      ],
      "metadata": {
        "colab": {
          "base_uri": "https://localhost:8080/"
        },
        "id": "zzKpjv41b2JO",
        "outputId": "ba92f171-a2e2-4b4c-902c-5e7b04ef6bb5"
      },
      "execution_count": 20,
      "outputs": [
        {
          "output_type": "stream",
          "name": "stdout",
          "text": [
            "Error: '2003: Can't connect to MySQL server on '127.0.0.1:3306' (111 Connection refused)'\n"
          ]
        }
      ]
    },
    {
      "cell_type": "code",
      "source": [],
      "metadata": {
        "id": "WHP3wy3Wl-qG"
      },
      "execution_count": null,
      "outputs": []
    }
  ]
}