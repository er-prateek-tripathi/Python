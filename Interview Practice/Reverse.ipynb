{
 "cells": [
  {
   "cell_type": "markdown",
   "source": [
    "Given a string of words, Reverse all the words\n",
    "\n",
    "start = \"This is the best\"\n",
    "\n",
    "finish = \"best is the This\""
   ],
   "metadata": {
    "collapsed": false
   }
  },
  {
   "cell_type": "code",
   "execution_count": 6,
   "outputs": [],
   "source": [
    "s = \"This is the best\""
   ],
   "metadata": {
    "collapsed": false,
    "ExecuteTime": {
     "end_time": "2023-12-03T08:01:17.873738Z",
     "start_time": "2023-12-03T08:01:17.866757600Z"
    }
   }
  },
  {
   "cell_type": "code",
   "execution_count": 7,
   "metadata": {
    "collapsed": true,
    "ExecuteTime": {
     "end_time": "2023-12-03T08:01:18.344763800Z",
     "start_time": "2023-12-03T08:01:18.328496600Z"
    }
   },
   "outputs": [],
   "source": [
    "# method 1\n",
    "\n",
    "def reverse(s):\n",
    "    return \" \".join(reversed(s.split()))"
   ]
  },
  {
   "cell_type": "code",
   "execution_count": 9,
   "outputs": [
    {
     "data": {
      "text/plain": "'best the is This'"
     },
     "execution_count": 9,
     "metadata": {},
     "output_type": "execute_result"
    }
   ],
   "source": [
    "reverse(s)"
   ],
   "metadata": {
    "collapsed": false,
    "ExecuteTime": {
     "end_time": "2023-12-03T08:01:25.755319400Z",
     "start_time": "2023-12-03T08:01:25.747340500Z"
    }
   }
  },
  {
   "cell_type": "code",
   "execution_count": 12,
   "outputs": [
    {
     "name": "stdout",
     "output_type": "stream",
     "text": [
      "['best', 'the', 'is', 'This']\n"
     ]
    }
   ],
   "source": [
    "# method 2\n",
    "def reverse2(s):\n",
    "    s = s.split()\n",
    "    s.reverse()\n",
    "    return s\n",
    "\n",
    "print(reverse2(s))"
   ],
   "metadata": {
    "collapsed": false,
    "ExecuteTime": {
     "end_time": "2023-12-03T08:03:47.459084700Z",
     "start_time": "2023-12-03T08:03:47.441699Z"
    }
   }
  },
  {
   "cell_type": "code",
   "execution_count": 13,
   "outputs": [],
   "source": [
    "# method 3\n",
    "\n",
    "def reverse3(s):\n",
    "\n",
    "    length = len(s)\n",
    "    spaces = [' ']\n",
    "    words = []\n",
    "    i = 0\n",
    "\n",
    "    while i < length:\n",
    "\n",
    "        if s[i] not in spaces:\n",
    "            word_start = i\n",
    "\n",
    "            while i < length and s[i] not in spaces:\n",
    "                i += 1\n",
    "\n",
    "            words.append(s[word_start : i])\n",
    "\n",
    "        i += 1\n",
    "\n",
    "    return \"\".join(reversed(s))\n"
   ],
   "metadata": {
    "collapsed": false,
    "ExecuteTime": {
     "end_time": "2023-12-03T08:09:40.921102600Z",
     "start_time": "2023-12-03T08:09:40.908937400Z"
    }
   }
  },
  {
   "cell_type": "code",
   "execution_count": 14,
   "outputs": [
    {
     "name": "stdout",
     "output_type": "stream",
     "text": [
      "tseb eht si sihT\n"
     ]
    }
   ],
   "source": [
    "print(reverse3(s))"
   ],
   "metadata": {
    "collapsed": false,
    "ExecuteTime": {
     "end_time": "2023-12-03T08:09:41.694790200Z",
     "start_time": "2023-12-03T08:09:41.679346900Z"
    }
   }
  },
  {
   "cell_type": "code",
   "execution_count": null,
   "outputs": [],
   "source": [],
   "metadata": {
    "collapsed": false
   }
  }
 ],
 "metadata": {
  "kernelspec": {
   "display_name": "Python 3",
   "language": "python",
   "name": "python3"
  },
  "language_info": {
   "codemirror_mode": {
    "name": "ipython",
    "version": 2
   },
   "file_extension": ".py",
   "mimetype": "text/x-python",
   "name": "python",
   "nbconvert_exporter": "python",
   "pygments_lexer": "ipython2",
   "version": "2.7.6"
  }
 },
 "nbformat": 4,
 "nbformat_minor": 0
}
