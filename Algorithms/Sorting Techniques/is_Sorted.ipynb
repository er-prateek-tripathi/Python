{
  "nbformat": 4,
  "nbformat_minor": 0,
  "metadata": {
    "colab": {
      "provenance": [],
      "authorship_tag": "ABX9TyPznHE9PXrhZwPSjr9PjuIR",
      "include_colab_link": true
    },
    "kernelspec": {
      "name": "python3",
      "display_name": "Python 3"
    },
    "language_info": {
      "name": "python"
    }
  },
  "cells": [
    {
      "cell_type": "markdown",
      "metadata": {
        "id": "view-in-github",
        "colab_type": "text"
      },
      "source": [
        "<a href=\"https://colab.research.google.com/github/er-prateek-tripathi/Python/blob/master/Algorithms/Sorting%20Techniques/is_Sorted.ipynb\" target=\"_parent\"><img src=\"https://colab.research.google.com/assets/colab-badge.svg\" alt=\"Open In Colab\"/></a>"
      ]
    },
    {
      "cell_type": "code",
      "execution_count": 5,
      "metadata": {
        "id": "6GM1LULmwHSP"
      },
      "outputs": [],
      "source": [
        "def is_sorted(arr):\n",
        "  sorted = True\n",
        "\n",
        "  for i in range(len(arr)-1):\n",
        "    if arr[i] > arr[i+1]:\n",
        "      sorted = False\n",
        "\n",
        "  return sorted"
      ]
    },
    {
      "cell_type": "code",
      "source": [
        "arr = [1,2,5,3,7,4,6]\n",
        "is_sorted(arr)"
      ],
      "metadata": {
        "colab": {
          "base_uri": "https://localhost:8080/"
        },
        "id": "FVxD-sEmSnhi",
        "outputId": "0a6abba3-372e-4ff0-a9ae-6c47b3b59a56"
      },
      "execution_count": 6,
      "outputs": [
        {
          "output_type": "execute_result",
          "data": {
            "text/plain": [
              "False"
            ]
          },
          "metadata": {},
          "execution_count": 6
        }
      ]
    },
    {
      "cell_type": "code",
      "source": [
        "arr1 = [1,2,3,4,5,6,7]\n",
        "is_sorted(arr1)"
      ],
      "metadata": {
        "colab": {
          "base_uri": "https://localhost:8080/"
        },
        "id": "id2enrVSSvUh",
        "outputId": "a0e9000b-093f-4bdd-b4c3-5f2835cf3e68"
      },
      "execution_count": 7,
      "outputs": [
        {
          "output_type": "execute_result",
          "data": {
            "text/plain": [
              "True"
            ]
          },
          "metadata": {},
          "execution_count": 7
        }
      ]
    },
    {
      "cell_type": "code",
      "source": [],
      "metadata": {
        "id": "KlwoNEbZTAvd"
      },
      "execution_count": null,
      "outputs": []
    }
  ]
}