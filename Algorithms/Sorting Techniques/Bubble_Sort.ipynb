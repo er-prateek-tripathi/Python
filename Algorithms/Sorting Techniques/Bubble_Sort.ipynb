{
  "nbformat": 4,
  "nbformat_minor": 0,
  "metadata": {
    "colab": {
      "provenance": [],
      "authorship_tag": "ABX9TyP1VvDrBpbzk9XZFQSWIRb3",
      "include_colab_link": true
    },
    "kernelspec": {
      "name": "python3",
      "display_name": "Python 3"
    },
    "language_info": {
      "name": "python"
    }
  },
  "cells": [
    {
      "cell_type": "markdown",
      "metadata": {
        "id": "view-in-github",
        "colab_type": "text"
      },
      "source": [
        "<a href=\"https://colab.research.google.com/github/er-prateek-tripathi/Python/blob/master/Algorithms/Sorting%20Techniques/Bubble_Sort.ipynb\" target=\"_parent\"><img src=\"https://colab.research.google.com/assets/colab-badge.svg\" alt=\"Open In Colab\"/></a>"
      ]
    },
    {
      "cell_type": "markdown",
      "source": [
        "# This program will count the number of Swaps used to complete the sorting.\n",
        "\n",
        "## The complexity of bubble sort is O(n^2)\n",
        "in both worst and average cases, because the **entire array needs to be iterated for every element**.\n"
      ],
      "metadata": {
        "id": "dScnmZ__iuBJ"
      }
    },
    {
      "cell_type": "code",
      "execution_count": 6,
      "metadata": {
        "id": "97sNzio2aXNH"
      },
      "outputs": [],
      "source": [
        "def Counting_Swaps(arr,n):\n",
        "\n",
        "    swaps = 0\n",
        "\n",
        "    for k in range(n-1):\n",
        "\n",
        "        swapped = False\n",
        "\n",
        "        # (n-k-1) is for ignoring comparisons of elements\n",
        "        # which have already been compared in earlier iterations\n",
        "        for i in range(n-k-1):\n",
        "\n",
        "            if arr[i] > arr[i+1]:\n",
        "                temp = arr[i]\n",
        "                arr[i] = arr[i+1]\n",
        "                arr[i+1] = temp\n",
        "                swaps += 1\n",
        "                swapped = True\n",
        "\n",
        "        if not swapped:\n",
        "            break\n",
        "\n",
        "    return swaps"
      ]
    },
    {
      "cell_type": "code",
      "source": [
        "n = int(input())\n",
        "arr = list(map(int, input().split()))"
      ],
      "metadata": {
        "colab": {
          "base_uri": "https://localhost:8080/"
        },
        "id": "YsHf9kXfkTrz",
        "outputId": "4695405b-d81e-485d-b3b4-62d5441bab5f"
      },
      "execution_count": 8,
      "outputs": [
        {
          "name": "stdout",
          "output_type": "stream",
          "text": [
            "5\n",
            "1 8 16 2 4\n"
          ]
        }
      ]
    },
    {
      "cell_type": "code",
      "source": [
        "print(Counting_Swaps(arr, n))"
      ],
      "metadata": {
        "colab": {
          "base_uri": "https://localhost:8080/"
        },
        "id": "gchF7VFIjjwH",
        "outputId": "7fd88723-62c5-4dab-a8aa-30ff63053657"
      },
      "execution_count": 9,
      "outputs": [
        {
          "output_type": "stream",
          "name": "stdout",
          "text": [
            "4\n"
          ]
        }
      ]
    },
    {
      "cell_type": "markdown",
      "source": [
        "# Bubble Sort\n",
        "\n",
        "Methodology:\n",
        "\n",
        "- take two elements of the array\n",
        "- compare them\n",
        "- if first is larger then second, swap their positions\n",
        "- else increase index and take the second element from 1st iteration and the third elemnt for comaprison\n",
        "- Do this until no swaps need to be made.\n",
        "\n",
        "The reultant will be a sorted array."
      ],
      "metadata": {
        "id": "2C4MtghdmZbJ"
      }
    },
    {
      "cell_type": "code",
      "source": [
        "def bubble_sort(arr,n):\n",
        "\n",
        "  for i in range(n - 1):\n",
        "    flag = 0\n",
        "    for j in range(n - i - 1):\n",
        "      if arr[j] > arr[j+1]:\n",
        "        arr[j],arr[j+1] = arr[j+1],arr[j]\n",
        "        flag =1\n",
        "\n",
        "    if flag == 0:\n",
        "      break\n",
        "\n",
        "  return arr"
      ],
      "metadata": {
        "id": "9OIbFloYkhoI"
      },
      "execution_count": 10,
      "outputs": []
    },
    {
      "cell_type": "code",
      "source": [
        "bubble_sort(arr,n)"
      ],
      "metadata": {
        "colab": {
          "base_uri": "https://localhost:8080/"
        },
        "id": "edC9J-GvlxZo",
        "outputId": "d39e9832-6a73-4172-f7a2-bb6a207d9fd0"
      },
      "execution_count": 11,
      "outputs": [
        {
          "output_type": "execute_result",
          "data": {
            "text/plain": [
              "[1, 2, 4, 8, 16]"
            ]
          },
          "metadata": {},
          "execution_count": 11
        }
      ]
    },
    {
      "cell_type": "code",
      "source": [],
      "metadata": {
        "id": "MdEKnKfSmOVB"
      },
      "execution_count": null,
      "outputs": []
    }
  ]
}