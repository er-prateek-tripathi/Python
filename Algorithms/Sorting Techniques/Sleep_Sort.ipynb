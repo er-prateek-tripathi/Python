{
  "nbformat": 4,
  "nbformat_minor": 0,
  "metadata": {
    "colab": {
      "provenance": [],
      "authorship_tag": "ABX9TyMZQtxGgTO7gEqtg1tm+DFy",
      "include_colab_link": true
    },
    "kernelspec": {
      "name": "python3",
      "display_name": "Python 3"
    },
    "language_info": {
      "name": "python"
    }
  },
  "cells": [
    {
      "cell_type": "markdown",
      "metadata": {
        "id": "view-in-github",
        "colab_type": "text"
      },
      "source": [
        "<a href=\"https://colab.research.google.com/github/er-prateek-tripathi/Python/blob/master/Algorithms/Sorting%20Techniques/Sleep_Sort.ipynb\" target=\"_parent\"><img src=\"https://colab.research.google.com/assets/colab-badge.svg\" alt=\"Open In Colab\"/></a>"
      ]
    },
    {
      "cell_type": "markdown",
      "source": [
        "In this algorithm we create different threads for each of the elements in the input array and then each thread sleeps for an amount of time which is proportional to the value of corresponding array element. Hence, the thread having the least amount of sleeping time wakes up first and the number gets printed and then the second least element and so on. The largest element wakes up after a long time and then the element gets printed at the last. Thus the output is a sorted one. All this multithreading process happens in background and at the core of the OS. We do not get to know anything about what’s happening in the background, hence this is a “mysterious” sorting algorithm.\n",
        "\n"
      ],
      "metadata": {
        "id": "UO64IZbsZQMs"
      }
    },
    {
      "cell_type": "code",
      "execution_count": 1,
      "metadata": {
        "colab": {
          "base_uri": "https://localhost:8080/"
        },
        "id": "kndsDVE4ZI7i",
        "outputId": "23079233-02a7-4fbf-f2a5-288be1f69eb2"
      },
      "outputs": [
        {
          "output_type": "stream",
          "name": "stdout",
          "text": [
            "9 23 34 122 "
          ]
        }
      ],
      "source": [
        "import threading\n",
        "import time\n",
        "\n",
        "# This function will be executed by each thread\n",
        "def routine(num):\n",
        "    # Sleeping time is proportional to the number\n",
        "    time.sleep(num / 1000.0)  # Sleep for 'num' milliseconds\n",
        "    print(num, end=\" \")\n",
        "\n",
        "# A function that performs sleep sort\n",
        "def sleep_sort(arr):\n",
        "    threads = []\n",
        "\n",
        "    # Create a thread for each element in the input array\n",
        "    for num in arr:\n",
        "        thread = threading.Thread(target=routine, args=(num,))\n",
        "        threads.append(thread)\n",
        "        thread.start()\n",
        "\n",
        "    # Wait for all threads to finish\n",
        "    for thread in threads:\n",
        "        thread.join()\n",
        "\n",
        "if __name__ == \"__main__\":\n",
        "    # Doesn't work for negative numbers\n",
        "    arr = [34, 23, 122, 9]\n",
        "\n",
        "    sleep_sort(arr)"
      ]
    },
    {
      "cell_type": "code",
      "source": [],
      "metadata": {
        "id": "bvk_JsiOZrOv"
      },
      "execution_count": null,
      "outputs": []
    }
  ]
}