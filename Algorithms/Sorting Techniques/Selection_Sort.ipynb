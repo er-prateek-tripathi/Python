{
  "nbformat": 4,
  "nbformat_minor": 0,
  "metadata": {
    "colab": {
      "provenance": [],
      "authorship_tag": "ABX9TyPN7wckCfEtVAEaRBIMHuar",
      "include_colab_link": true
    },
    "kernelspec": {
      "name": "python3",
      "display_name": "Python 3"
    },
    "language_info": {
      "name": "python"
    }
  },
  "cells": [
    {
      "cell_type": "markdown",
      "metadata": {
        "id": "view-in-github",
        "colab_type": "text"
      },
      "source": [
        "<a href=\"https://colab.research.google.com/github/er-prateek-tripathi/Python/blob/master/Algorithms/Sorting%20Techniques/Selection_Sort.ipynb\" target=\"_parent\"><img src=\"https://colab.research.google.com/assets/colab-badge.svg\" alt=\"Open In Colab\"/></a>"
      ]
    },
    {
      "cell_type": "markdown",
      "source": [
        "# Selection Sort\n",
        "\n",
        "The Selection sort algorithm is based on the idea of finding the minimum or maximum element in an unsorted array and then putting it in its correct position in a sorted array.\n",
        "\n",
        "The minimum element in the array\n",
        "is searched for and then swapped with the element that is currently located at the first position.\n",
        "\n",
        "Now the minimum element in the remaining unsorted array is searched for and put in the second position, and so on.\n",
        "\n",
        "## Space Complexity: O(1)\n",
        "## Time Complexity: O(n^2)\n",
        "## Swaps = O(n)"
      ],
      "metadata": {
        "id": "Vc3nt9PPF9ZI"
      }
    },
    {
      "cell_type": "code",
      "execution_count": 16,
      "metadata": {
        "colab": {
          "base_uri": "https://localhost:8080/"
        },
        "id": "qHBIig7UETzs",
        "outputId": "1a862672-cb7b-4bec-c879-9fd57e2114c8"
      },
      "outputs": [
        {
          "output_type": "stream",
          "name": "stdout",
          "text": [
            "Swaps:  3\n"
          ]
        },
        {
          "output_type": "execute_result",
          "data": {
            "text/plain": [
              "[2, 3, 4, 5]"
            ]
          },
          "metadata": {},
          "execution_count": 16
        }
      ],
      "source": [
        "def selection_sort(arr, n):\n",
        "    #temporary variable to store the position of minimum element\n",
        "    minimum = 0\n",
        "    swaps = 0\n",
        "    # reduces the effective size of the array by one in  each iteration.\n",
        "    for i in range(n-1):\n",
        "    # assuming the first element to be the minimum of the unsorted array .\n",
        "        minimum = i\n",
        "    # gives the effective size of the unsorted  array .\n",
        "        for j in range(i+1, n):\n",
        "            if arr[j] < arr[minimum]:\n",
        "                # finds the minimum element\n",
        "                minimum = j\n",
        "        # putting minimum element on its proper position.\n",
        "        arr[i],arr[minimum] = arr[minimum], arr[i]\n",
        "        swaps += 1\n",
        "    print(\"Swaps: \", swaps)\n",
        "\n",
        "    return arr\n",
        "\n",
        "arr = [4, 3, 2, 5]\n",
        "n = 4\n",
        "selection_sort(arr, n)\n",
        "\n"
      ]
    },
    {
      "cell_type": "markdown",
      "source": [
        "\n",
        "1.  i = 4, j = 3, check 3 < 4, yes, swap, arr = 3, 4, 2, 5\n",
        "2. i = 4, j = 2, check 2 < 4, yes, swap, arr = 3, 2, 4, 5\n",
        "3. i = 4, j = 5, check 5 < 4, no, No Swap, arr = 3, 2, 4, 5\n",
        "4. i = 3, j = 2, check 2 < 3, yes, swap, arr = 2, 3, 4, 5\n"
      ],
      "metadata": {
        "id": "b9KtuAzlMPQy"
      }
    },
    {
      "cell_type": "code",
      "source": [],
      "metadata": {
        "id": "txzxm6AMIvAe"
      },
      "execution_count": 4,
      "outputs": []
    }
  ]
}