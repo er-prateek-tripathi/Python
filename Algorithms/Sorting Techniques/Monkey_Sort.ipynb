{
  "nbformat": 4,
  "nbformat_minor": 0,
  "metadata": {
    "colab": {
      "provenance": [],
      "authorship_tag": "ABX9TyND3yI68sp0iLds0q/RsLR5",
      "include_colab_link": true
    },
    "kernelspec": {
      "name": "python3",
      "display_name": "Python 3"
    },
    "language_info": {
      "name": "python"
    }
  },
  "cells": [
    {
      "cell_type": "markdown",
      "metadata": {
        "id": "view-in-github",
        "colab_type": "text"
      },
      "source": [
        "<a href=\"https://colab.research.google.com/github/er-prateek-tripathi/Python/blob/master/Algorithms/Sorting%20Techniques/Monkey_Sort.ipynb\" target=\"_parent\"><img src=\"https://colab.research.google.com/assets/colab-badge.svg\" alt=\"Open In Colab\"/></a>"
      ]
    },
    {
      "cell_type": "markdown",
      "source": [
        "We have 10 cards and all the cards have somme numbers on them.\n",
        "\n",
        "All the 10 cards are given to a **Monkey**.\n",
        "\n",
        "We told th Monkey to sort the cards.\n",
        "\n",
        "In order to sort the cards, the Monkey will shuffle the cards, until it gets ordered in sorted manner.\n",
        "\n",
        "**It has Infinite Time complexity, O(∞).**\n",
        "\n",
        "This is because, in worst case scenario, the cards are going to be shuffled for infinite times."
      ],
      "metadata": {
        "id": "oU_eChLEUm0f"
      }
    },
    {
      "cell_type": "code",
      "execution_count": 1,
      "metadata": {
        "colab": {
          "base_uri": "https://localhost:8080/"
        },
        "id": "aWiLmV5gUf30",
        "outputId": "577e7651-5fbd-4578-82f3-bb254b3dba13"
      },
      "outputs": [
        {
          "output_type": "execute_result",
          "data": {
            "text/plain": [
              "[1, 4, 2, 3]"
            ]
          },
          "metadata": {},
          "execution_count": 1
        }
      ],
      "source": [
        "import random\n",
        "\n",
        "a = [1,2,3,4]\n",
        "random.shuffle(a)\n",
        "a"
      ]
    },
    {
      "cell_type": "code",
      "source": [
        "def is_sorted(arr):\n",
        "  sorted = True\n",
        "\n",
        "  for i in range(len(arr)-1):\n",
        "    if arr[i] > arr[i+1]:\n",
        "      sorted = False\n",
        "\n",
        "  return sorted"
      ],
      "metadata": {
        "id": "yFgwEuYqVzKH"
      },
      "execution_count": 2,
      "outputs": []
    },
    {
      "cell_type": "code",
      "source": [
        "import time\n",
        "def monkeySort(Arr):\n",
        "  while not is_sorted(Arr):\n",
        "    time.sleep(1)\n",
        "    random.shuffle(Arr)\n",
        "    print(\"shuffleing\", Arr)\n",
        "\n",
        "  print(\"Sorted Array: \", Arr)"
      ],
      "metadata": {
        "id": "scRILsxuVdxN"
      },
      "execution_count": 15,
      "outputs": []
    },
    {
      "cell_type": "code",
      "source": [
        "a = [8,4,2,6]\n",
        "monkeySort(a)"
      ],
      "metadata": {
        "colab": {
          "base_uri": "https://localhost:8080/"
        },
        "id": "kUlgSLXmWDJW",
        "outputId": "fe178748-9562-4383-f7b3-3d455a16b63b"
      },
      "execution_count": 14,
      "outputs": [
        {
          "output_type": "stream",
          "name": "stdout",
          "text": [
            "shuffleing [6, 2, 4, 8]\n",
            "shuffleing [2, 4, 6, 8]\n",
            "Sorted Array:  [2, 4, 6, 8]\n"
          ]
        }
      ]
    },
    {
      "cell_type": "code",
      "source": [],
      "metadata": {
        "id": "Uy3j0WjTWLeL"
      },
      "execution_count": null,
      "outputs": []
    }
  ]
}