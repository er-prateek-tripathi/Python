{
  "nbformat": 4,
  "nbformat_minor": 0,
  "metadata": {
    "colab": {
      "provenance": [],
      "authorship_tag": "ABX9TyPgdwUcVLKDJ84qeNJJB8YB",
      "include_colab_link": true
    },
    "kernelspec": {
      "name": "python3",
      "display_name": "Python 3"
    },
    "language_info": {
      "name": "python"
    }
  },
  "cells": [
    {
      "cell_type": "markdown",
      "metadata": {
        "id": "view-in-github",
        "colab_type": "text"
      },
      "source": [
        "<a href=\"https://colab.research.google.com/github/er-prateek-tripathi/Python/blob/master/Algorithms/Sorting%20Techniques/Optimizing_merge_sort.ipynb\" target=\"_parent\"><img src=\"https://colab.research.google.com/assets/colab-badge.svg\" alt=\"Open In Colab\"/></a>"
      ]
    },
    {
      "cell_type": "markdown",
      "source": [
        "Hackerearth optimized code"
      ],
      "metadata": {
        "id": "aBE_w_xFj4jl"
      }
    },
    {
      "cell_type": "code",
      "execution_count": 1,
      "metadata": {
        "id": "C0FEAUWOiptu"
      },
      "outputs": [],
      "source": [
        "def merge(A, start, mid, end):\n",
        "    # Stores the starting position of both parts in temporary variables.\n",
        "    p = start\n",
        "    q = mid + 1\n",
        "\n",
        "    # Create an empty temporary array to store the merged elements.\n",
        "    Arr = [None] * (end - start + 1)\n",
        "    k = 0\n",
        "\n",
        "    # Compare and merge elements from both parts.\n",
        "    for i in range(start, end + 1):\n",
        "        if p > mid:  # Check if first part comes to an end.\n",
        "            Arr[k] = A[q]\n",
        "            k += 1\n",
        "            q += 1\n",
        "        elif q > end:  # Check if second part comes to an end.\n",
        "            Arr[k] = A[p]\n",
        "            k += 1\n",
        "            p += 1\n",
        "        elif A[p] < A[q]:  # Check which part has smaller element.\n",
        "            Arr[k] = A[p]\n",
        "            k += 1\n",
        "            p += 1\n",
        "        else:\n",
        "            Arr[k] = A[q]\n",
        "            k += 1\n",
        "            q += 1\n",
        "\n",
        "    # Copy the merged elements back to the original array.\n",
        "    for i in range(0, k):\n",
        "        A[start] = Arr[i]\n",
        "        start += 1"
      ]
    },
    {
      "cell_type": "code",
      "source": [
        "def merge_sort (A , start, end):\n",
        "    if start < end:\n",
        "        mid = (start + end)//2\n",
        "        merge_sort (A, start , mid )\n",
        "        merge_sort (A,mid+1 , end )\n",
        "        merge(A,start , mid , end )"
      ],
      "metadata": {
        "id": "hCxLZ6BWitBT"
      },
      "execution_count": 2,
      "outputs": []
    },
    {
      "cell_type": "code",
      "source": [
        "import time\n",
        "start = time.time()\n",
        "arr1 = [2,1,5,8,9,6,7,4]\n",
        "merge_sort(arr1, 0, 7)\n",
        "print(\"Time Taken: \", time.time() - start, \"Seconds\")\n",
        "print(arr1)"
      ],
      "metadata": {
        "colab": {
          "base_uri": "https://localhost:8080/"
        },
        "id": "d2dugdUhiyAt",
        "outputId": "ec120c41-ffbf-4287-e8c7-014e350e5b83"
      },
      "execution_count": 3,
      "outputs": [
        {
          "output_type": "stream",
          "name": "stdout",
          "text": [
            "Time Taken:  0.00014328956604003906 Seconds\n",
            "[1, 2, 4, 5, 6, 7, 8, 9]\n"
          ]
        }
      ]
    },
    {
      "cell_type": "markdown",
      "source": [
        "YT Code"
      ],
      "metadata": {
        "id": "Ir1jRRapj_fk"
      }
    },
    {
      "cell_type": "code",
      "source": [
        "def merge_sorted(arr1, arr2):\n",
        "\n",
        "    i = j = 0\n",
        "\n",
        "    merged = []\n",
        "\n",
        "    while i<len(arr1) and j < len(arr2):\n",
        "\n",
        "        if arr1[i] <= arr2[j]:\n",
        "            merged.append(arr1[i])\n",
        "            i += 1\n",
        "        else:\n",
        "            merged.append(arr2[j])\n",
        "            j += 1\n",
        "\n",
        "    while i < len(arr1):\n",
        "        merged.append(arr1[i])\n",
        "        i+=1\n",
        "\n",
        "    while j < len(arr2):\n",
        "        merged.append(arr2[j])\n",
        "        j+=1\n",
        "\n",
        "    return merged"
      ],
      "metadata": {
        "id": "eT84u2WrjC8p"
      },
      "execution_count": 4,
      "outputs": []
    },
    {
      "cell_type": "code",
      "source": [
        "def merge_sort(arr):\n",
        "\n",
        "    mid = len(arr)//2\n",
        "\n",
        "    # splitting the arrays in two parts\n",
        "    left = arr[:mid]\n",
        "    right = arr[mid:]\n",
        "\n",
        "    # when 1 single elemnt is left after continuous splitting then send it to merged sorted, to merge in sorted manner\n",
        "    if len(left) <= 1 and len(right) <= 1:\n",
        "        return merge_sorted(left, right)\n",
        "    else: # recursively, spliting the arrays until 1 single elemnt is left\n",
        "        sorted_left = merge_sort(left)\n",
        "        sorted_right = merge_sort(right)\n",
        "\n",
        "        return merge_sorted(sorted_left, sorted_right)"
      ],
      "metadata": {
        "id": "9CE1RM1HkCxB"
      },
      "execution_count": 5,
      "outputs": []
    },
    {
      "cell_type": "code",
      "source": [
        "import time\n",
        "start = time.time()\n",
        "arr2 = [2,1,5,8,9,6,7,4]\n",
        "print(merge_sort(arr2))\n",
        "print(\"Time Taken: \", time.time() - start, \"Seconds\")"
      ],
      "metadata": {
        "colab": {
          "base_uri": "https://localhost:8080/"
        },
        "id": "VAf6adlJkGBG",
        "outputId": "3c21ef7e-edd2-482e-9f6b-0ddbd2a5c5ae"
      },
      "execution_count": 6,
      "outputs": [
        {
          "output_type": "stream",
          "name": "stdout",
          "text": [
            "[1, 2, 4, 5, 6, 7, 8, 9]\n",
            "Time Taken:  0.0010035037994384766 Seconds\n"
          ]
        }
      ]
    },
    {
      "cell_type": "markdown",
      "source": [
        "Optimized YT Code"
      ],
      "metadata": {
        "id": "_H9nTiLBkY3b"
      }
    },
    {
      "cell_type": "code",
      "source": [
        "def merge_sorted(arr1, arr2, arr):\n",
        "\n",
        "    i = j = k = 0\n",
        "\n",
        "    while i<len(arr1) and j < len(arr2):\n",
        "\n",
        "        if arr1[i] <= arr2[j]:\n",
        "            arr[k] = arr1[i]\n",
        "            i += 1\n",
        "        else:\n",
        "            arr[k] = arr2[j]\n",
        "            j += 1\n",
        "        k+=1\n",
        "\n",
        "    while i < len(arr1):\n",
        "        arr[k] = arr1[i]\n",
        "        i+=1\n",
        "        k+=1\n",
        "\n",
        "    while j < len(arr2):\n",
        "        arr[k] = arr2[j]\n",
        "        j+=1\n",
        "        k+=1\n",
        "\n",
        "    return"
      ],
      "metadata": {
        "id": "jZsAF0K5kbHB"
      },
      "execution_count": 7,
      "outputs": []
    },
    {
      "cell_type": "code",
      "source": [
        "# Program to perform merge sort\n",
        "def merge_sort(arr):\n",
        "\n",
        "    if len(arr) == 1:\n",
        "        return arr\n",
        "\n",
        "    mid = len(arr)//2\n",
        "\n",
        "    # splitting the arrays in two parts\n",
        "    left = arr[:mid]\n",
        "    right = arr[mid:]\n",
        "\n",
        "    # when 1 single elemnt is left after continuous splitting then send it to merged sorted, to merge in sorted manner\n",
        "\n",
        "    # recursively, spliting the arrays until 1 single element is left\n",
        "    merge_sort(left)\n",
        "    merge_sort(right)\n",
        "\n",
        "    merge_sorted(left, right, arr)\n",
        "\n"
      ],
      "metadata": {
        "id": "YRS-oqPxkjG_"
      },
      "execution_count": 9,
      "outputs": []
    },
    {
      "cell_type": "code",
      "source": [
        "import time\n",
        "start = time.time()\n",
        "arr3 = [2,1,5,8,9,6,7,4]\n",
        "merge_sort(arr3)\n",
        "print(arr3)\n",
        "print(\"Time Taken: \", time.time() - start, \"Seconds\")"
      ],
      "metadata": {
        "colab": {
          "base_uri": "https://localhost:8080/"
        },
        "id": "lqj6HcT7klB2",
        "outputId": "64384efb-9c70-4676-e880-daff566fb4f1"
      },
      "execution_count": 10,
      "outputs": [
        {
          "output_type": "stream",
          "name": "stdout",
          "text": [
            "[1, 2, 4, 5, 6, 7, 8, 9]\n",
            "Time Taken:  0.00015783309936523438 Seconds\n"
          ]
        }
      ]
    },
    {
      "cell_type": "code",
      "source": [],
      "metadata": {
        "id": "tk4TjDCNljbh"
      },
      "execution_count": null,
      "outputs": []
    }
  ]
}