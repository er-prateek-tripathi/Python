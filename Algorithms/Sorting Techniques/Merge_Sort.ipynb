{
  "nbformat": 4,
  "nbformat_minor": 0,
  "metadata": {
    "colab": {
      "provenance": [],
      "authorship_tag": "ABX9TyM8OCqYQHgYMycHb4kEdL/N",
      "include_colab_link": true
    },
    "kernelspec": {
      "name": "python3",
      "display_name": "Python 3"
    },
    "language_info": {
      "name": "python"
    }
  },
  "cells": [
    {
      "cell_type": "markdown",
      "metadata": {
        "id": "view-in-github",
        "colab_type": "text"
      },
      "source": [
        "<a href=\"https://colab.research.google.com/github/er-prateek-tripathi/Python/blob/master/Algorithms/Sorting%20Techniques/Merge_Sort.ipynb\" target=\"_parent\"><img src=\"https://colab.research.google.com/assets/colab-badge.svg\" alt=\"Open In Colab\"/></a>"
      ]
    },
    {
      "cell_type": "markdown",
      "source": [
        "# Merge Sort\n",
        "\n",
        "Merge sort is a **divide-and-conquer** algorithm based on the idea of breaking down a list into several sub-lists until each sublist consists of a single element and merging those sublists in a manner that results into a sorted list.\n",
        "\n",
        "**Idea**:\n",
        "\n",
        "- Divide the unsorted list into N sublists, each containing 1 element.\n",
        "- Take adjacent pairs of two singleton lists and merge them to form a list of 2 elements. N will now convert into N/2 lists of size 2.\n",
        "- Repeat the process till a single sorted list of obtained.\n",
        "\n",
        "**Ideology**:\n",
        "\n",
        "- While comparing two sublists for merging, the first element of both lists is taken into consideration.\n",
        "- While sorting in ascending order, the element that is of a lesser value becomes a new element of the sorted list.\n",
        "- This procedure is repeated until both the smaller sublists are empty and the new combined sublist comprises all the elements of both the sublists.\n",
        "\n",
        "## Time Complexity: O(NlogN)"
      ],
      "metadata": {
        "id": "Xy5h3SaPRq1E"
      }
    },
    {
      "cell_type": "markdown",
      "source": [
        "# Iterative Approach\n",
        "\n",
        "```\n",
        "def merge(A, start, mid, end):\n",
        "    # Stores the starting position of both parts in temporary variables.\n",
        "    p = start\n",
        "    q = mid + 1\n",
        "\n",
        "    # Create an empty temporary array to store the merged elements.\n",
        "    Arr = [None] * (end - start + 1)\n",
        "    k = 0\n",
        "\n",
        "    # Compare and merge elements from both parts.\n",
        "    for i in range(start, end + 1):\n",
        "        if p > mid:  # Check if first part comes to an end.\n",
        "            Arr[k] = A[q]\n",
        "            k += 1\n",
        "            q += 1\n",
        "        elif q > end:  # Check if second part comes to an end.\n",
        "            Arr[k] = A[p]\n",
        "            k += 1\n",
        "            p += 1\n",
        "        elif A[p] < A[q]:  # Check which part has smaller element.\n",
        "            Arr[k] = A[p]\n",
        "            k += 1\n",
        "            p += 1\n",
        "        else:\n",
        "            Arr[k] = A[q]\n",
        "            k += 1\n",
        "            q += 1\n",
        "\n",
        "    # Copy the merged elements back to the original array.\n",
        "    for i in range(0, k):\n",
        "        A[start] = Arr[i]\n",
        "        start += 1\n",
        "```\n",
        "\n"
      ],
      "metadata": {
        "id": "eCBMW41Ne0FR"
      }
    },
    {
      "cell_type": "markdown",
      "source": [
        "# Recursive Approach\n",
        "\n",
        "\n",
        "\n",
        "```\n",
        "def merge_sort (A , start, end):\n",
        "    if start < end:\n",
        "        mid = (start + end)//2\n",
        "        merge_sort (A, start , mid )                \n",
        "        merge_sort (A,mid+1 , end )         \n",
        "        merge(A,start , mid , end )\n",
        "```\n",
        "\n"
      ],
      "metadata": {
        "id": "piP-wTE5e9mI"
      }
    },
    {
      "cell_type": "code",
      "source": [
        "# Program to merge two sorted arrays\n",
        "\n",
        "def merge_sorted(arr1, arr2):\n",
        "\n",
        "    i = j = 0\n",
        "\n",
        "    merged = []\n",
        "\n",
        "    while i<len(arr1) and j < len(arr2):\n",
        "\n",
        "        if arr1[i] <= arr2[j]:\n",
        "            merged.append(arr1[i])\n",
        "            i += 1\n",
        "        else:\n",
        "            merged.append(arr2[j])\n",
        "            j += 1\n",
        "\n",
        "    while i < len(arr1):\n",
        "        merged.append(arr1[i])\n",
        "        i+=1\n",
        "\n",
        "    while j < len(arr2):\n",
        "        merged.append(arr2[j])\n",
        "        j+=1\n",
        "\n",
        "    return merged"
      ],
      "metadata": {
        "id": "260NYPwDXJ-N"
      },
      "execution_count": 15,
      "outputs": []
    },
    {
      "cell_type": "code",
      "source": [
        "def merge_sort(arr):\n",
        "\n",
        "    mid = len(arr)//2\n",
        "\n",
        "    # splitting the arrays in two parts\n",
        "    left = arr[:mid]\n",
        "    right = arr[mid:]\n",
        "\n",
        "    # when 1 single elemnt is left after continuous splitting then send it to merged sorted, to merge in sorted manner\n",
        "    if len(left) <= 1 and len(right) <= 1:\n",
        "        return merge_sorted(left, right)\n",
        "    else: # recursively, spliting the arrays until 1 single elemnt is left\n",
        "        sorted_left = merge_sort(left)\n",
        "        sorted_right = merge_sort(right)\n",
        "\n",
        "        return merge_sorted(sorted_left, sorted_right)"
      ],
      "metadata": {
        "id": "LCdrLndCZCUp"
      },
      "execution_count": 16,
      "outputs": []
    },
    {
      "cell_type": "code",
      "source": [
        "arr = [9,3,7,2,8,1]\n",
        "merge_sort(arr)"
      ],
      "metadata": {
        "colab": {
          "base_uri": "https://localhost:8080/"
        },
        "id": "2TriRZY_ZtJ-",
        "outputId": "2aeb093c-f064-4477-9b5d-3e4462a1348d"
      },
      "execution_count": 17,
      "outputs": [
        {
          "output_type": "execute_result",
          "data": {
            "text/plain": [
              "[1, 2, 3, 7, 8, 9]"
            ]
          },
          "metadata": {},
          "execution_count": 17
        }
      ]
    },
    {
      "cell_type": "markdown",
      "source": [
        "# Optimized version of the above code:\n",
        "\n",
        "\n",
        "\n",
        "```\n",
        "# Program to merge two sorted arrays\n",
        "\n",
        "def merge_sorted(arr1, arr2, arr):\n",
        "\n",
        "    i = j = k = 0\n",
        "\n",
        "    while i<len(arr1) and j < len(arr2):\n",
        "\n",
        "        if arr1[i] <= arr2[j]:\n",
        "            arr[k] = arr1[i]\n",
        "            i += 1\n",
        "        else:\n",
        "            arr[k] = arr2[j]\n",
        "            j += 1\n",
        "        k+=1\n",
        "\n",
        "    while i < len(arr1):\n",
        "        arr[k] = arr1[i]\n",
        "        i+=1\n",
        "        k+=1\n",
        "\n",
        "    while j < len(arr2):\n",
        "        arr[k] = arr2[j]\n",
        "        j+=1\n",
        "        k+=1\n",
        "\n",
        "    return\n",
        "\n",
        "# Program to perform merge sort\n",
        "def merge_sort(arr):\n",
        "\n",
        "    if len(arr) == 1:\n",
        "        return arr\n",
        "\n",
        "    mid = len(arr)//2\n",
        "\n",
        "    # splitting the arrays in two parts\n",
        "    left = arr[:mid]\n",
        "    right = arr[mid:]\n",
        "\n",
        "    # when 1 single elemnt is left after continuous splitting then send it to merged sorted, to merge in sorted manner\n",
        "    \n",
        "    else: # recursively, spliting the arrays until 1 single element is left\n",
        "        merge_sort(left)\n",
        "        merge_sort(right)\n",
        "\n",
        "        merge_sorted(left, right, arr)\n",
        "\n",
        "arr = [2,1,5,8,9,6,7,4]\n",
        "merge_sort(arr)\n",
        "print(arr)\n",
        "```\n",
        "\n"
      ],
      "metadata": {
        "id": "5slciit0g6Zn"
      }
    },
    {
      "cell_type": "code",
      "source": [],
      "metadata": {
        "id": "GQMieXM6aDUG"
      },
      "execution_count": null,
      "outputs": []
    }
  ]
}