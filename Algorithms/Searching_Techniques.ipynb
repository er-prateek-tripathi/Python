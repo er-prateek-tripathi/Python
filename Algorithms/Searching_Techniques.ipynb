{
  "nbformat": 4,
  "nbformat_minor": 0,
  "metadata": {
    "colab": {
      "provenance": [],
      "authorship_tag": "ABX9TyNRa3XimnjH+k1tHfiwEvSP",
      "include_colab_link": true
    },
    "kernelspec": {
      "name": "python3",
      "display_name": "Python 3"
    },
    "language_info": {
      "name": "python"
    }
  },
  "cells": [
    {
      "cell_type": "markdown",
      "metadata": {
        "id": "view-in-github",
        "colab_type": "text"
      },
      "source": [
        "<a href=\"https://colab.research.google.com/github/er-prateek-tripathi/Python/blob/master/Algorithms/Searching_Techniques.ipynb\" target=\"_parent\"><img src=\"https://colab.research.google.com/assets/colab-badge.svg\" alt=\"Open In Colab\"/></a>"
      ]
    },
    {
      "cell_type": "markdown",
      "source": [
        "**Linear Search**\n",
        "\n",
        "- A brute force technique to search an element\n",
        "- Worst Case time complexity: O(N)\n",
        "- Array is not supposed to be sorted."
      ],
      "metadata": {
        "id": "BNBKYgLIuvXW"
      }
    },
    {
      "cell_type": "code",
      "execution_count": 1,
      "metadata": {
        "colab": {
          "base_uri": "https://localhost:8080/"
        },
        "id": "hV_Kcu1XuehL",
        "outputId": "5eee2902-1b16-4ada-d3a4-d309de7b7db9"
      },
      "outputs": [
        {
          "output_type": "execute_result",
          "data": {
            "text/plain": [
              "-1"
            ]
          },
          "metadata": {},
          "execution_count": 1
        }
      ],
      "source": [
        "def linear_search(arr,item):\n",
        "\n",
        "  for i in range(len(arr)):\n",
        "\n",
        "    if arr[i] == item:\n",
        "      return i\n",
        "\n",
        "  return -1\n",
        "\n",
        "\n",
        "arr = [12,34,56,1,67,100,47,99]\n",
        "\n",
        "linear_search(arr,121)\n"
      ]
    },
    {
      "cell_type": "markdown",
      "source": [
        "**Binary Search**\n",
        "\n",
        "- Sorted Array is required.\n",
        "- Worst Case time complexity: O(logN)"
      ],
      "metadata": {
        "id": "XVOwmu_vvE_T"
      }
    },
    {
      "cell_type": "code",
      "source": [
        "def binary_search(arr, low, high, item):\n",
        "\n",
        "  #print(\"low = \",low,\"high = \",high,end=' ')\n",
        "\n",
        "  if low <= high:\n",
        "    # search\n",
        "\n",
        "    mid = (low + high)//2\n",
        "\n",
        "    #print(\"mid value is\",arr[mid])\n",
        "\n",
        "    if arr[mid] == item:\n",
        "      return mid\n",
        "    elif arr[mid] > item:\n",
        "      return binary_search(arr, low, mid-1,item)\n",
        "    else:\n",
        "      return binary_search(arr,mid+1,high,item)\n",
        "  else:\n",
        "    return -1\n",
        "\n",
        "\n",
        "arr = [12,24,35,46,57,68,80,99,100]\n",
        "print(binary_search(arr,0,len(arr)-1,68))"
      ],
      "metadata": {
        "colab": {
          "base_uri": "https://localhost:8080/"
        },
        "id": "0CZtj6Zeupgz",
        "outputId": "18703948-c41e-440b-8489-d1810c673cf9"
      },
      "execution_count": 3,
      "outputs": [
        {
          "output_type": "stream",
          "name": "stdout",
          "text": [
            "5\n"
          ]
        }
      ]
    },
    {
      "cell_type": "code",
      "source": [],
      "metadata": {
        "id": "3LeVcKG7vkwm"
      },
      "execution_count": null,
      "outputs": []
    }
  ]
}